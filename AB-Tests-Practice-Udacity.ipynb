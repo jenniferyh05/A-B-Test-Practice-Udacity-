{
 "cells": [
  {
   "cell_type": "markdown",
   "metadata": {},
   "source": [
    "## <font color=\"DarkMagenta\">This notebook will use A/B Testing as a vehicle for illustrating how several statistical methods can be applied to the problem of testing means and comparing samples. There are 6 Parts, some drawn from existing demonstrations on the web. In all cases, use of these materials is attributed.</font> \n",
    "\n",
    "---"
   ]
  },
  {
   "cell_type": "markdown",
   "metadata": {},
   "source": [
    "## <font color='blue'>Part I: Some Examples of Successful A/B Tests are available at the Link Below:</font>\n",
    "\n",
    "<center>https://www.designforfounders.com/ab-testing-examples/</center>\n",
    "\n",
    "---"
   ]
  },
  {
   "cell_type": "markdown",
   "metadata": {},
   "source": [
    "## <font color='blue'>Part II: A/B Testing With Python - Walkthrough Udacity's Course Final Project</font>\n",
    "\n",
    "__[Udacity](https://www.udacity.com/)__ has published a great free course on A/B testing __[available here](https://www.udacity.com/course/ab-testing--ud257-certified)__. The notebook below was published by Tammy Rotem and is available at __[Tammy Rotem's Udacity A/B Project](https://www.kaggle.com/tammyrotem/ab-tests-with-python)__. NOTE: A few corrections to the referenced text were made."
   ]
  },
  {
   "cell_type": "markdown",
   "metadata": {
    "_cell_guid": "19088ede-8fec-494e-bc1c-46a78211478c",
    "_uuid": "e0d4dfc3eb59412c9046298044b673bcb1f32746"
   },
   "source": [
    " *By Tammy Rotem*\n",
    "1. [About Udacity's A/B Testing Course](#about) <br>\n",
    "2. [Experiment Overview](#overview)<br>\n",
    "2.1 [Current Conditions Before Change](#current)<br>\n",
    "2.2 [Description of Experimented Change](#description)<br>\n",
    "2.3 [Experiment Hypothesis](#hypothesis)<br>\n",
    "2.4 [Experiment Details](#details)<br>\n",
    "3. [Metric Choice](#metricchoice)<br>\n",
    "3.1 [Invariant Metrics - Consistency Checks](#Invariant)<br>\n",
    "3.2 [Evaluation Metrics - Performance Indicators](#evaluation)<br>\n",
    "4. [Estimating the baseline values of metrics](#baseline)<br>\n",
    "4.1 [Collecting estimators data](#collect)<br>\n",
    "4.2 [Estimating Stadard Deviation](#sd)<br>\n",
    "4.2.1 [Estimating Analytically](#estimate)<br>\n",
    "5. [Experiment Sizing](#sizing)<br>\n",
    "5.1 [Get Z-score critical value and Standard Deviations](#z)<br>\n",
    "\n",
    "5.2 [Calculate Sample Size per Metric](#calc) <br>\n",
    "6. [Analyzing Collected Data](#analysis)<br>\n",
    "6.1 [Loading collected data](#collect_results)<br>\n",
    "6.2 [Consistency Checks](#consistency)<br>\n",
    "6.2.1 [Consistency Checks for difference between Counts](#check_counts)<br>\n",
    "6.2.2 [Consistency Checks for difference between probabilities](#check_probs)<br>\n",
    "6.3 [Measuring effect size](#effect)<br>\n",
    "6.4 [Double check with Sign Tests](#sign_tests)<br>\n",
    "6.4.1 [Data Preparation](#prep)<br>\n",
    "6.4.2 [Building a Sign Test](#sign)<br>\n",
    "7. [Conclusions & Recommendations](#conclusions)<br>"
   ]
  },
  {
   "cell_type": "code",
   "execution_count": 1,
   "metadata": {
    "_cell_guid": "9a04b6ea-111a-4627-849f-53adf7efd40b",
    "_uuid": "f4949401e2dab760c957525f17e90addf45fc9e8"
   },
   "outputs": [],
   "source": [
    "import math\n",
    "import numpy as np\n",
    "import pandas.tseries as tseries\n",
    "import pandas as pd\n",
    "import scipy.optimize as optimize\n",
    "import scipy.stats as stats\n",
    "from scipy.stats import norm# import libraries\n",
    "import matplotlib.pyplot as plt\n",
    "import seaborn as sns\n",
    "import statsmodels.api as sm\n",
    "from statsmodels.base.model import GenericLikelihoodModel\n",
    "%matplotlib inline"
   ]
  },
  {
   "cell_type": "markdown",
   "metadata": {
    "_cell_guid": "27cb4b93-34ec-4469-9963-cc61ab80b193",
    "_uuid": "f5f7c36658e5469932f8c5cd84a1d1a4b0eff924"
   },
   "source": [
    "## 1 Udacity's A/B Testing Course <a class=\"anchor\" id=\"about\"></a>\n",
    "[Udacity](https://www.udacity.com/) published a great free course for [A/B Testing](https://en.wikipedia.org/wiki/A/B_testing), also known as split tests, which are online experiments used to test potential improvements to a website or mobile app.\n",
    "This Python notebook is a walkthrough solution of the final project.\n",
    "\n",
    "Udacity's [A/B Free Testing Course](https://www.udacity.com/course/ab-testing--ud257) is presented by Google and focuses on design and analysis of A/B tests. The course covers how to choose and characterize metrics to evaluate your experiments, how to design an experiment with enough statistical power and how to analyze the results and draw valid conclusions."
   ]
  },
  {
   "cell_type": "markdown",
   "metadata": {
    "_cell_guid": "82414b3c-6e0c-43e8-9cf8-51303729f493",
    "_uuid": "5f4067cba7cfdf087ee2d5cd7bd3333e2d63f6b1"
   },
   "source": [
    "## 2 Experiment Overview <a class=\"anchor\" id=\"overview\"></a>\n",
    "\n",
    "**Experiment Name:** \"Free Trial\" Screener. <br>\n",
    "It is conducted by Udacity, a website dedicated to teaching online - with the overall business goal of maximizing course completion by students.\n",
    "### 2.1 Current Conditions Before Change <a class=\"anchor\" id=\"current\"></a>\n",
    "\n",
    "-  At the time of this experiment, Udacity courses currently have two options on the course overview page: \"start free trial\", and \"access course materials\". <br>\n",
    "-  If the student clicks \"start free trial\", they will be asked to enter their credit card information, and then they will be enrolled in a free trial for the paid version of the course. After 14 days, they will automatically be charged unless they cancel first.\n",
    "-  If the student clicks \"access course materials\", they will be able to view the videos and take the quizzes for free, but they will not receive coaching support or a verified certificate, and they will not submit their final project for feedback.\n",
    "\n",
    "\n",
    "### 2.2 Description of Experimented Change <a class=\"anchor\" id=\"description\"></a>\n",
    "\n",
    "-  In the experiment, Udacity tested a change where if the student clicked \"start free trial\", they were asked how much time they had available to devote to the course.\n",
    "-  If the student indicated 5 or more hours per week, they would be taken through the checkout process as usual. If they indicated fewer than 5 hours per week, a message would appear indicating that Udacity courses usually require a greater time commitment for successful completion, and suggesting that the student might like to access the course materials for free.\n",
    "-  At this point, the student would have the option to continue enrolling in the free trial, or access the course materials for free instead. [This screenshot](https://drive.google.com/file/d/0ByAfiG8HpNUMakVrS0s4cGN2TjQ/view) shows what the experiment looks like.\n",
    "\n",
    "### 2.3 Experiment Hypothesis <a class=\"anchor\" id=\"hypothesis\"></a>\n",
    "\n",
    "The new screen is hypothesized to (1) improve retention of trial subscribers who drop out because of lack of time, while not reducing the numbers of students who continue past the free trial period.\n",
    "\n",
    "### 2.4 Counting Cookies <a class=\"anchor\" id=\"details\"></a>\n",
    "The unit of diversion (see discussion below for the distinction between units of diversion vs. units of analysis) is a cookie, although if the student enrolls in the free trial, they are tracked by user-id from that point forward. The same user-id cannot enroll in the free trial twice. For users that do not enroll, their user-id is not tracked in the experiment, even if they were signed in when they visited the course overview page. __[Click here to find out more about cookies and internet tracking](https://robertheaton.com/2017/11/20/how-does-online-tracking-actually-work/)__"
   ]
  },
  {
   "cell_type": "markdown",
   "metadata": {
    "_cell_guid": "1055062b-40d7-400c-8721-653f71250bbc",
    "_uuid": "d4200f0848220af981f13946919ebf0c5cee0f00"
   },
   "source": [
    "## 3 Choosing Metrics<a class=\"anchor\" id=\"metric\"></a>\n",
    "\n",
    "We need two types of metrics for a successful experiment (or at least, a safe one); Invariant and Evaluation metrics.  \n",
    "\n",
    "Invariant metrics are used for \"Consistency checks\", that is, to make sure our experiment (the way we presented a change to a part of the population, as well as the way we collected the data) is not inherently wrong. Basically, this means we pick metrics which are (presumably) unchanged by our experiment, which can then be compared between the control and experiment groups as consistency checks.<br>  \n",
    "  \n",
    "Evaluation metrics on the other hand, are measures that detect differences between control and experimental groups that, with proper experimental design, can be attributed to the \"new treatment\" of the experimental group. For each metric we state a $MinChng$ - the minimum change needed to replace control with experimental, e.g. requiring an increase in retentions of at least 2% (if statistically significant).\n",
    "  \n",
    "### 3.1 Invariant Metrics - Consistency Checks <a class=\"anchor\" id=\"invariant\"></a>\n",
    "\n",
    "| Metric Name  | Metric Formula  | MinChng  | Notation |\n",
    "|:-|:-|:-:|:-:|\n",
    "| Number of Cookies in Course Overview Page  | # unique daily cookies on page | 3000 cookies  | $C_k$ |\n",
    "| Number of Clicks on Free Trial Button  | # unique daily cookies who clicked  | 240 clicks | $C_l$ |\n",
    "| Free Trial button Click-Through-Probability (CTP)  | $\\frac{C_l}{C_k}$ | 0.01  | $CTP$ |   \n",
    "  \n",
    "### 3.2 Evaluation Metrics - Performance Indicators <a class=\"anchor\" id=\"evaluation\"></a>\n",
    "| Metric Name  | Metric Formula  | MinChng  | Notation |\n",
    "|:-:|:-:|:-:|:-:|\n",
    "| Gross Conversion   |  $\\frac{enrolled}{C_l}$  | 0.01  | $Conversion_{Gross}$ |\n",
    "| Retention   | $\\frac{paid}{enrolled}$  | 0.01  | $Retention$ |\n",
    "| Net Conversion  |  $\\frac{paid}{C_l}$  | 0.0075 | $Conversion_{Net}$ |"
   ]
  },
  {
   "cell_type": "markdown",
   "metadata": {
    "_cell_guid": "8532b7b5-e365-4468-aa5c-839114fbe07b",
    "_uuid": "dc01c453a9b39e69a4b25699444828f42814f490"
   },
   "source": [
    "## 4 Estimating the baseline values of metrics <a class=\"anchor\" id=\"baseline\"></a>\n",
    "Before we start our experiment we should know how these metrics behaved before the change - their \"baseline\" values.\n",
    "### 4.1 Collecting estimators data <a class=\"anchor\" id=\"collect\"></a>\n",
    "Udacity gives the following rough estimates for these metrics (presumably collected from aggregates on daily traffic) <br>\n",
    "\n",
    "| Item | Description  | Estimator  |\n",
    "|:-:|:-:|:-:|\n",
    "| Number of cookies | Daily unique cookies to view course overview page  | 40,000  |\n",
    "| Number of clicks | Daily unique cookies to click Free Trial button  | 3,200 |\n",
    "| Number of enrollments | Free Trial enrollments per day  | 660  |\n",
    "| CTP | CTP on Free Trial button  | 0.08  |\n",
    "| Gross Conversion | Probability of enrolling, given a click  | 0.20625  |\n",
    "| Retention | Probability of payment, given enrollment  | 0.53  |\n",
    "| Net Conversion | Probability of payment, given click  | 0.109313 |"
   ]
  },
  {
   "cell_type": "code",
   "execution_count": 2,
   "metadata": {
    "_cell_guid": "fc93fbb9-b9f0-4b51-8dad-c4a8ee7b4320",
    "_uuid": "a3b1eab0da4bf7262ff7d98a41bed840d835762a"
   },
   "outputs": [],
   "source": [
    "#Let's place this estimators into a dictionary for ease of use later\n",
    "baseline = {\"Cookies\":40000,\"Clicks\":3200,\"Enrollments\":660,\"CTP\":0.08,\"GConversion\":0.20625,\n",
    "           \"Retention\":0.53,\"NConversion\":0.109313}"
   ]
  },
  {
   "cell_type": "markdown",
   "metadata": {
    "_cell_guid": "b66cdcd4-1ad0-4536-b75e-f3fec164ffc4",
    "_uuid": "c8dc256a506700380e3b5595d2697ab3a5b1b809"
   },
   "source": [
    "#### 4.2.1 Estimating Standard Deviation <a class=\"anchor\" id=\"estimate\"></a>\n",
    "In order to estimate variance we assume our count data (formally, the \"count random variable\") is binomially distributed with unknown probability $p$, for which the metric is the estimate of $p$, $\\hat{p}$. The sample standard deviation $s$ is then calculated using the formula<br>\n",
    "\n",
    "<center><font size=\"4\">$s =\\sqrt{\\frac{\\hat{p}(1-\\hat{p})}{n}}$</font></center><br>\n",
    "\n",
    "This setup is only valid when the **unit of diversion** of the experiment is equal to the **unit of analysis** (the denominator of the metric formula). In the cases when this is not valid, the actual variance might be different and it is recommended to estimate it empirically.\n",
    "\n",
    "Here is what Professor Dimiter Toshkov says about **unit of diversion** (he calls it **unit of observation**, a better term) and **unit of analysis**:\n",
    "\n",
    "\"In my understanding, the unit of analysis (a case) is at the level at which you pitch the conclusions. The unit of observation is at the level at which you collect the data. So, the unit of observation and the unit of analysis can be the same but they need not be. In the context of quantitative research, units of observation could be students and units of analysis classes, if classes are compared. Or students can be both the units of observation and analysis if students are compared. Or students can be the units of analyses and grades the unit of observations if several observations (grades) are available per student. So it all depends on the design. Simply put, the unit of observation is the row in the data table but the unit of analysis can be at a higher level of aggregation.\"\n",
    "__[Toshkov, January 25, 2012](http://re-design.dimiter.eu/?p=253)__\n",
    "\n",
    "We now calculate sample standard deviations for three metrics:\n",
    "-  Gross Conversion\n",
    "-  Retention\n",
    "-  Net Conversion"
   ]
  },
  {
   "cell_type": "markdown",
   "metadata": {},
   "source": [
    "* **Gross Conversion** - The baseline probability for Gross Conversion can be estimated by the ratio of the number of users enrolling in a free trial to the number of cookies clicking the free trial. In this case, the units of diversion (Cookies) are the units that are assigned to control and experimental groups and which are observed as enrolling in the free trial or not."
   ]
  },
  {
   "cell_type": "code",
   "execution_count": 3,
   "metadata": {
    "_cell_guid": "4c47c350-99c8-4990-8456-cbbe014a972f",
    "_uuid": "2c6930584c39024455900fce7e0e92e5812814b3"
   },
   "outputs": [
    {
     "data": {
      "text/plain": [
       "0.0072"
      ]
     },
     "execution_count": 3,
     "metadata": {},
     "output_type": "execute_result"
    }
   ],
   "source": [
    "# Let's get the p and n we need for Gross Conversion (GC) and compute\n",
    "# the Sample Standard Deviation(sd) rounded to 4 decimal digits.\n",
    "GC={}\n",
    "GC[\"minch\"]=0.01\n",
    "GC[\"p\"]=baseline[\"GConversion\"]\n",
    "# p is given in this case - or we could calculate it from enrollments/clicks\n",
    "GC[\"n\"]=baseline[\"Clicks\"]\n",
    "GC[\"sd\"]=round(math.sqrt((GC[\"p\"]*(1-GC[\"p\"]))/GC[\"n\"]),4)\n",
    "GC[\"sd\"]"
   ]
  },
  {
   "cell_type": "markdown",
   "metadata": {
    "_cell_guid": "8b7b3d37-69e5-49e5-9e60-4c6a1dae00f9",
    "_uuid": "362a79099101a5d72ee5d78689459d8b2f9c2104"
   },
   "source": [
    "* **Retention** - The baseline probability for retention is the number of paying users (enrolled after 14 free days) divided by the number of total enrolled users, that is, the estimated probability of payment, given enrollment. The sample size is the number of enrolled users. In this case, unit of diversion is not equal to unit of analysis (users who enrolled) so an analytical estimation is not enough --- if we had the data for these estimates, we would want to estimate this variance empirically as well."
   ]
  },
  {
   "cell_type": "code",
   "execution_count": 4,
   "metadata": {
    "_cell_guid": "654d08d4-6638-4f9f-a327-6f2f5a6a9365",
    "_uuid": "334e65cddd5a800a396fa630b676ca12bec42114"
   },
   "outputs": [
    {
     "data": {
      "text/plain": [
       "0.0194"
      ]
     },
     "execution_count": 4,
     "metadata": {},
     "output_type": "execute_result"
    }
   ],
   "source": [
    "# Let's get the p and n we need for Retention(R)\n",
    "# and compute the Standard Deviation(sd) rounded to 4 decimal digits.\n",
    "R={}\n",
    "R[\"minch\"]=0.01\n",
    "R[\"p\"]=baseline[\"Retention\"]\n",
    "R[\"n\"]=baseline[\"Enrollments\"]\n",
    "R[\"sd\"]=round(math.sqrt((R[\"p\"]*(1-R[\"p\"]))/R[\"n\"]),4)\n",
    "R[\"sd\"]"
   ]
  },
  {
   "cell_type": "markdown",
   "metadata": {
    "_cell_guid": "6625822a-c58b-4d1d-b3a8-ed8541796213",
    "_uuid": "37d04b56f1b9e5d8fa5d08c0242c317ec39c959c"
   },
   "source": [
    "* **Net Conversion** - The baseline probability for the net conversion is the number of paying users divided by the number of cookies that clicked the free trial button. In other words, the probability of payment, given a click. The sample size is the number of cookies that clicked. In this case, the unit of analysis and diversion are equal so we expect a good enough estimation analytically."
   ]
  },
  {
   "cell_type": "code",
   "execution_count": 5,
   "metadata": {
    "_cell_guid": "162f3d90-467a-41e6-9489-f1ea01f08afa",
    "_uuid": "be4b9c808cf098efde59ea1d17e1a35799873e5f"
   },
   "outputs": [
    {
     "data": {
      "text/plain": [
       "0.0055"
      ]
     },
     "execution_count": 5,
     "metadata": {},
     "output_type": "execute_result"
    }
   ],
   "source": [
    "# Let's get the p and n we need for Net Conversion (NC) and\n",
    "# compute the Standard Deviation (sd) rounded to 4 decimal digits.\n",
    "NC={}\n",
    "NC[\"minch\"]=0.0075\n",
    "NC[\"p\"]=baseline[\"NConversion\"]\n",
    "NC[\"n\"]=baseline[\"Clicks\"]\n",
    "NC[\"sd\"]=round(math.sqrt((NC[\"p\"]*(1-NC[\"p\"]))/NC[\"n\"]),4)\n",
    "NC[\"sd\"]"
   ]
  },
  {
   "cell_type": "markdown",
   "metadata": {
    "_cell_guid": "cc418f7c-0573-45c5-9ebc-f70b0916a090",
    "_uuid": "a62be65b6b882a33a76f7402f52f7c83f4ccff75",
    "collapsed": true
   },
   "source": [
    "## 5 Experiment Sizing <a class=\"anchor\" id=\"sizing\"></a>\n",
    "\n",
    "A good online reference to hypothesis testing is\n",
    "\n",
    "<center>[Hypothesis Testing (with Alpha & Beta) for One and Two Samples](http://sphweb.bumc.bu.edu/otlt/MPH-Modules/BS/BS704_Power/BS704_Power_print.html)</center>\n",
    "\n",
    "Having estimated probabilities and standard deviations for our metrics, we can now calculate sample sizes needed to perform tests with prescribed levels of significance and power.\n",
    "\n",
    "Given the specifications of our A/B experiment, we want to test the (simple) null hypothesis $H_0 : P_{exp} - P_{cont} = 0$ vs $H_1 : P_{exp} - P_{cont} = d$. In the Gross Conversion (GC) test, for example $d = 0.01$ and the estimate of $P_{cont}$ is $\\text{GC[``GConversion'']} = 0.20625$. Thus with our experimental 'B' \"treatment\", we wish to achieve at least a $1\\%$ improvement to $0.21625$. Moreover, with a Type I error of $\\alpha = 0.05$ (probability of rejecting a true null hypothesis) and Type II error of $\\beta = 0.2$ (probability of accepting the null hypothesis when the alternative hypothesis $H_1$ is true) we want to conduct an experiment with sufficient sample size to reject $5\\%$ of true null hypotheses $H_0: P_{exp} - P_{cont} = 0$, and accept $20\\%$ when the alternative hypothesis $H_1 : P_{exp} - P_{cont} = d$ is true.\n",
    "\n",
    "It is crucial to understand that we need to conduct a one-sided test of hypothesis here. The reason is obvious: if the experimental treatement reduces $P_{cont}$, that is, reduces the Gross Conversions, it will obviously be unattractive. In that case, one would only succeed in improving retentions if the reduction in CTP's was offset by a (considerably) higher retention probability.\n",
    "\n",
    "With a large sample approximation, our test statistic under $H_0 : P_{exp} - P_{cont} = 0$ assuming large sample sizes $N_{cont}$ and $N_{exp}$, is (via the CLT):\n",
    "\n",
    "<center><font size=\"4\">$z = \\frac{\\hat{P}_{exp} - \\hat{P}_{cont}}{\\sqrt{\\hat{P}_{pool} \\left(1 - \\hat{P}_{pool} \\right)\\left( \\frac{1}{N_{cont}} + \\frac{1}{N_{exp}} \\right)}}$</font></center>  \n",
    "  \n",
    "where using the notation $x_{cont}$ and $x_{exp}$ for the numbers who click on free trial,   \n",
    "  \n",
    "<center><font size=\"4\">$\\hat{P}_{pool}=\\frac{x_{cont}+x_{exp}}{N_{cont}+N_{exp}}$. </font></center>\n",
    "\n",
    "The expression for $z$ will have a approximate $N(0,1)$ large sample distribution. Note that the justification for pooling the probability estimate is the assumption of the null hypothesis itself --- that $P_{exp} = P_{cont}$.  \n",
    "  \n",
    "Since we are randomizing cookies to control and experimental groups with probability $0.5$, we may assume equal sample sizes $N = N_{cont} = N_{exp}$ and then simplify the $z$ formula to \n",
    "\n",
    "<center><font size=\"4\">$z = \\frac{\\hat{P}_{exp} - \\hat{P}_{cont}}{\\sqrt{\\hat{P}_{pool} \\left(1 - \\hat{P}_{pool} \\right) \\frac{2}{N}}}$</font></center>  \n",
    "\n",
    "Now suppose that the alternative hypothesis $H_1 : P_{exp} - P_{cont} = d$ is true. How does this affect our test statistic $z$? Approximately, we will have \n",
    "\n",
    "<center><font size=\"4\">$z = \\frac{d}{\\sqrt{\\hat{P}_{pool} \\left(1 - \\hat{P}_{pool} \\right) \\frac{2}{N}}}$</font></center> \n",
    "\n",
    "but the result is approximate because the standard deviation in the alternative should be based on $p + d$ in order to be normally distributed. If we ignore that difference, which is small when $d$ is small, it can be shown that the sample number required to achieve an approximate one-sided test with level of significance $1 - \\alpha$ and power $1 - \\beta$ is  \n",
    "  \n",
    "<center> <font size=\"5\"> $n = \\frac{ \\left( Z_{1-\\alpha} \\cdot s_1 + Z_{1-\\beta} \\cdot s_2 \\right) ^2}{d^2}$</font>, with <br><br>\n",
    "$s_1 = \\sqrt{\\, \\hat{P}(1-\\hat{P})+\\hat{P}(1-\\hat{P})}$<br><br>\n",
    "$s_2 = \\sqrt{\\, \\hat{P}(1-\\hat{P})+(\\hat{P}+d)(1-(\\hat{P}+d))}$ </center><br>  \n",
    "\n",
    "Several online calculators are available to automatically determine sample size, for example\n",
    "[Evan's Awesome A/B Tools](http://www.evanmiller.org/ab-testing/sample-size.html).\n",
    "<font color=red>Warning: I do not see an option for performing a one-tailed test, although you can fake the calculator aout (probably) by using $\\alpha = 0.10$ instead of $\\alpha = 0.05$.</font>\n",
    "\n",
    "Now, let's break down what inputs we need and which calculations still need to be made. Regarding inputs, we have all the data we need:  \n",
    "  \n",
    "-  Type 1 error ($\\alpha$) \n",
    "-  power ($1-\\beta$)\n",
    "-  detectable change ($d = MinChng$)\n",
    "-  baseline conversion rate (our $\\hat{P}$, determined from historical data)  \n",
    "  \n",
    "What we need to calculate:  \n",
    "  \n",
    "* Get Z score for $1-\\alpha$ and for $1-\\beta$.\n",
    "* Get standard deviations $s_1$ & $s_2$.\n",
    "\n",
    "### 5.1 Get z-score Critical Value and Standard Deviations <a class=\"anchor\" id=\"side_methods\"></a>\n",
    "The Python package `scipy.stats.norm` has functions for all the statistical function we need. The `ppf` method gives us access to the [Percent Point Function (ppf)](https://en.wikipedia.org/wiki/Quantile_function) or Quantile Function. This function is the inverse of the [Cummulative Distribution Function (cdf)](https://en.wikipedia.org/wiki/Cumulative_distribution_function), an allows the conversion of quantiles to cumulative probabilities and vice versa.  "
   ]
  },
  {
   "cell_type": "code",
   "execution_count": 6,
   "metadata": {
    "_cell_guid": "230d398f-5692-4f04-a8a9-316c9c661801",
    "_uuid": "c1c7a715d55432c5d19fef049094527cf1f72343"
   },
   "outputs": [],
   "source": [
    "#Inputs: required alpha value (alpha should already fit the required test)\n",
    "#Returns: z-score for given alpha\n",
    "def get_z_score(alpha):\n",
    "    return norm.ppf(alpha)\n",
    "\n",
    "# Inputs p-baseline conversion rate which is our estimated p and d-minimum detectable change\n",
    "# Returns\n",
    "def get_sds(p,d):\n",
    "    sd1=math.sqrt(2*p*(1-p))\n",
    "    sd2=math.sqrt(p*(1-p)+(p+d)*(1-(p+d)))\n",
    "    sds=[sd1,sd2]\n",
    "    return sds\n",
    "\n",
    "# Inputs:sd1-sd for the baseline,sd2-sd for the expected change,alpha,beta,d-MinChng,p-baseline estimate p\n",
    "# Returns: the minimum sample size required per group according to metric denominator\n",
    "def get_sampSize(sds,alpha,beta,d):\n",
    "    n=pow((get_z_score(1-alpha)*sds[0]+get_z_score(1-beta)*sds[1]),2)/pow(d,2)\n",
    "    return n"
   ]
  },
  {
   "cell_type": "markdown",
   "metadata": {
    "_cell_guid": "ee719e64-ee76-45a7-8267-ba41c27feb11",
    "_uuid": "3982b947794bbcd660991ca9087227d5294d2075"
   },
   "source": [
    "### 5.2 Calculate Sample Size per Metric <a class=\"anchor\" id=\"calc\"></a>\n",
    "The functions in the previous two cells make it easy to calculate sample sizes for metrics (1) Gross Conversion, (2) Retention, and (3) Net Conversion."
   ]
  },
  {
   "cell_type": "code",
   "execution_count": 7,
   "metadata": {
    "_cell_guid": "e9b0d74a-35ba-461e-9b04-7527cc0147f9",
    "_uuid": "f44e06b60b027dd83ec3734c52ed1347d2a80c0c"
   },
   "outputs": [],
   "source": [
    "GC[\"d\"]=0.01\n",
    "R[\"d\"]=0.01\n",
    "NC[\"d\"]=0.0075"
   ]
  },
  {
   "cell_type": "markdown",
   "metadata": {
    "_cell_guid": "eb361734-4ab5-4ba6-800c-0271152b61fd",
    "_uuid": "54336bb19b3564f95a4698903806d4e7edaeb8c4"
   },
   "source": [
    "### <font color='blue'>*** Gross Conversion</font>"
   ]
  },
  {
   "cell_type": "code",
   "execution_count": 8,
   "metadata": {
    "_cell_guid": "28cf1802-c0ce-4189-b438-86504e53a721",
    "_uuid": "b443cb437954e04ef889ef4b365d8875da2833d1"
   },
   "outputs": [
    {
     "data": {
      "text/plain": [
       "20364.0"
      ]
     },
     "execution_count": 8,
     "metadata": {},
     "output_type": "execute_result"
    }
   ],
   "source": [
    "# Let's get an integer value for simplicity\n",
    "GC[\"SampSize\"]=round(get_sampSize(get_sds(GC[\"p\"],GC[\"d\"]),0.05,0.2,GC[\"d\"]))\n",
    "GC[\"SampSize\"]"
   ]
  },
  {
   "cell_type": "markdown",
   "metadata": {
    "_cell_guid": "50f65b60-e745-44fc-8803-84f358dc8c26",
    "_uuid": "4382f761b5282a009eb8265ddfcf6a12276382ec"
   },
   "source": [
    "This means we need at least 20,364 cookies who click the Free Trial button - per group! Finally, the total quantity of cookies (which are then assigned to either A or B) for the Gross Conversion metric is:"
   ]
  },
  {
   "cell_type": "code",
   "execution_count": 9,
   "metadata": {
    "_cell_guid": "ba7702c9-b092-404b-a212-8713a517d9bc",
    "_uuid": "530c3e906980568677ce0a7fc5c92f5f9a26302b"
   },
   "outputs": [
    {
     "data": {
      "text/plain": [
       "509100.0"
      ]
     },
     "execution_count": 9,
     "metadata": {},
     "output_type": "execute_result"
    }
   ],
   "source": [
    "GC[\"SampSize\"]=round(GC[\"SampSize\"]/baseline[\"CTP\"]*2)\n",
    "GC[\"SampSize\"]"
   ]
  },
  {
   "cell_type": "markdown",
   "metadata": {
    "_cell_guid": "8a145fe1-7493-4eef-9b3e-99138068d2ae",
    "_uuid": "7e0c0bfc939849712c49611f9392abe154e04179",
    "collapsed": true
   },
   "source": [
    "### <font color='blue'>*** Retention</font>"
   ]
  },
  {
   "cell_type": "code",
   "execution_count": 10,
   "metadata": {
    "_cell_guid": "c2c65956-f449-4d28-94b5-c5300aeadb4b",
    "_uuid": "1aa61cc37f8839a44f0773623d41c3684be1a9c7"
   },
   "outputs": [
    {
     "data": {
      "text/plain": [
       "30787.0"
      ]
     },
     "execution_count": 10,
     "metadata": {},
     "output_type": "execute_result"
    }
   ],
   "source": [
    "# Getting a nice integer value\n",
    "R[\"SampSize\"]=round(get_sampSize(get_sds(R[\"p\"],R[\"d\"]),0.05,0.2,R[\"d\"]))\n",
    "R[\"SampSize\"]"
   ]
  },
  {
   "cell_type": "markdown",
   "metadata": {
    "_cell_guid": "5679534f-a863-47af-ba94-7b61d99383de",
    "_uuid": "05ba302c01db5f280d9bd0cc007f289c4174d338"
   },
   "source": [
    "This means that we need 30,787 users who enrolled per group! We have to first convert this to cookies who clicked, and then to cookies who viewed the page, then finally to multiply by two for both groups."
   ]
  },
  {
   "cell_type": "code",
   "execution_count": 11,
   "metadata": {
    "_cell_guid": "0281b321-7506-49ba-a33e-29eed30eefbe",
    "_uuid": "16bf69e2a0f6214b91485b736676a1fe7aadfdca"
   },
   "outputs": [
    {
     "data": {
      "text/plain": [
       "3731757.575757576"
      ]
     },
     "execution_count": 11,
     "metadata": {},
     "output_type": "execute_result"
    }
   ],
   "source": [
    "R[\"SampSize\"]=R[\"SampSize\"]/baseline[\"CTP\"]/baseline[\"GConversion\"]*2\n",
    "R[\"SampSize\"]"
   ]
  },
  {
   "cell_type": "markdown",
   "metadata": {
    "_cell_guid": "42631863-3d60-4870-b6fe-0a6086940b22",
    "_uuid": "7f208b2044a3bb8ac8cc1160d7ca8c18e8403b71"
   },
   "source": [
    "Thus testing retentions would require over 3.7 million total page views, which at 40,000 views per day would require the test to extend for more than 90 days. But since we are willing to allocate no more than a month to testing, we do not test retentions due to insufficient sample size.\n",
    "### <font color='blue'>*** Net Conversion</font>"
   ]
  },
  {
   "cell_type": "code",
   "execution_count": 12,
   "metadata": {
    "_cell_guid": "56be284a-1c49-4c65-91d2-e007ae5b327d",
    "_uuid": "42607629817a83c2be769165cff7a30d74067320"
   },
   "outputs": [
    {
     "data": {
      "text/plain": [
       "21618.0"
      ]
     },
     "execution_count": 12,
     "metadata": {},
     "output_type": "execute_result"
    }
   ],
   "source": [
    "# Getting a nice integer value\n",
    "NC[\"SampSize\"]=round(get_sampSize(get_sds(NC[\"p\"],NC[\"d\"]),0.05,0.2,NC[\"d\"]))\n",
    "NC[\"SampSize\"]"
   ]
  },
  {
   "cell_type": "raw",
   "metadata": {
    "_cell_guid": "9ad6d399-8b5f-41d6-be72-ce428e13340d",
    "_uuid": "1ffe24cdbd36a2327cf73dd307fb0900a0f3364c"
   },
   "source": [
    "So, needing 21,618 cookies who click per group will require "
   ]
  },
  {
   "cell_type": "code",
   "execution_count": 13,
   "metadata": {
    "_cell_guid": "e4202dd9-7cb6-455c-9630-dd9277f84da6",
    "_uuid": "38b580f63f9e25fa7e19958d7b12a14d6e2b8838"
   },
   "outputs": [
    {
     "data": {
      "text/plain": [
       "540450.0"
      ]
     },
     "execution_count": 13,
     "metadata": {},
     "output_type": "execute_result"
    }
   ],
   "source": [
    "NC[\"SampSize\"]=NC[\"SampSize\"]/baseline[\"CTP\"]*2\n",
    "NC[\"SampSize\"]"
   ]
  },
  {
   "cell_type": "markdown",
   "metadata": {
    "_cell_guid": "24687192-ce64-4c1c-9f30-8aa80058bc88",
    "_uuid": "37be6b0fc9775b2bd645ea017bb551ee227c0022"
   },
   "source": [
    "total page views to achieve the $21,618$, given a CTP = $0.08$. Assuming we take 80% of each day's pageviews, the data collection period for this experiment (the period ending in the sample size is achieved) will be about 17 days. Note that running the experiment for a longer period will only improve its precision by reducing the effective level of significance and improving the power of the test."
   ]
  },
  {
   "cell_type": "markdown",
   "metadata": {
    "_cell_guid": "a117e9b7-bfb5-4444-b1ed-e64903008bf9",
    "_uuid": "6e8be49265f041c4e92e6b59f4c9d249176583c6",
    "collapsed": true
   },
   "source": [
    "## 6 Analyzing Collected Data <a class=\"anchor\" id=\"analysis\"></a>\n",
    "Finally, the moment we've all been waiting for, after so much preparation we finally get to see what this experiment will prove!\n",
    "The data is presented as two spreadsheets. I will load each spreadshot into a pandas dataframe.\n",
    "\n",
    "### 6.1 Loading collected data <a class=\"anchor\" id=\"collect_results\"></a>"
   ]
  },
  {
   "cell_type": "code",
   "execution_count": 15,
   "metadata": {
    "_cell_guid": "58b7a728-3b45-4867-969b-48959085498c",
    "_uuid": "4c29c3bce964e643ef30633cab8b95f268f76abc"
   },
   "outputs": [
    {
     "data": {
      "text/html": [
       "<div>\n",
       "<style scoped>\n",
       "    .dataframe tbody tr th:only-of-type {\n",
       "        vertical-align: middle;\n",
       "    }\n",
       "\n",
       "    .dataframe tbody tr th {\n",
       "        vertical-align: top;\n",
       "    }\n",
       "\n",
       "    .dataframe thead th {\n",
       "        text-align: right;\n",
       "    }\n",
       "</style>\n",
       "<table border=\"1\" class=\"dataframe\">\n",
       "  <thead>\n",
       "    <tr style=\"text-align: right;\">\n",
       "      <th></th>\n",
       "      <th>Date</th>\n",
       "      <th>Pageviews</th>\n",
       "      <th>Clicks</th>\n",
       "      <th>Enrollments</th>\n",
       "      <th>Payments</th>\n",
       "    </tr>\n",
       "  </thead>\n",
       "  <tbody>\n",
       "    <tr>\n",
       "      <th>0</th>\n",
       "      <td>Sat, Oct 11</td>\n",
       "      <td>7723</td>\n",
       "      <td>687</td>\n",
       "      <td>134.0</td>\n",
       "      <td>70.0</td>\n",
       "    </tr>\n",
       "    <tr>\n",
       "      <th>1</th>\n",
       "      <td>Sun, Oct 12</td>\n",
       "      <td>9102</td>\n",
       "      <td>779</td>\n",
       "      <td>147.0</td>\n",
       "      <td>70.0</td>\n",
       "    </tr>\n",
       "    <tr>\n",
       "      <th>2</th>\n",
       "      <td>Mon, Oct 13</td>\n",
       "      <td>10511</td>\n",
       "      <td>909</td>\n",
       "      <td>167.0</td>\n",
       "      <td>95.0</td>\n",
       "    </tr>\n",
       "    <tr>\n",
       "      <th>3</th>\n",
       "      <td>Tue, Oct 14</td>\n",
       "      <td>9871</td>\n",
       "      <td>836</td>\n",
       "      <td>156.0</td>\n",
       "      <td>105.0</td>\n",
       "    </tr>\n",
       "    <tr>\n",
       "      <th>4</th>\n",
       "      <td>Wed, Oct 15</td>\n",
       "      <td>10014</td>\n",
       "      <td>837</td>\n",
       "      <td>163.0</td>\n",
       "      <td>64.0</td>\n",
       "    </tr>\n",
       "    <tr>\n",
       "      <th>5</th>\n",
       "      <td>Thu, Oct 16</td>\n",
       "      <td>9670</td>\n",
       "      <td>823</td>\n",
       "      <td>138.0</td>\n",
       "      <td>82.0</td>\n",
       "    </tr>\n",
       "    <tr>\n",
       "      <th>6</th>\n",
       "      <td>Fri, Oct 17</td>\n",
       "      <td>9008</td>\n",
       "      <td>748</td>\n",
       "      <td>146.0</td>\n",
       "      <td>76.0</td>\n",
       "    </tr>\n",
       "    <tr>\n",
       "      <th>7</th>\n",
       "      <td>Sat, Oct 18</td>\n",
       "      <td>7434</td>\n",
       "      <td>632</td>\n",
       "      <td>110.0</td>\n",
       "      <td>70.0</td>\n",
       "    </tr>\n",
       "    <tr>\n",
       "      <th>8</th>\n",
       "      <td>Sun, Oct 19</td>\n",
       "      <td>8459</td>\n",
       "      <td>691</td>\n",
       "      <td>131.0</td>\n",
       "      <td>60.0</td>\n",
       "    </tr>\n",
       "    <tr>\n",
       "      <th>9</th>\n",
       "      <td>Mon, Oct 20</td>\n",
       "      <td>10667</td>\n",
       "      <td>861</td>\n",
       "      <td>165.0</td>\n",
       "      <td>97.0</td>\n",
       "    </tr>\n",
       "    <tr>\n",
       "      <th>10</th>\n",
       "      <td>Tue, Oct 21</td>\n",
       "      <td>10660</td>\n",
       "      <td>867</td>\n",
       "      <td>196.0</td>\n",
       "      <td>105.0</td>\n",
       "    </tr>\n",
       "    <tr>\n",
       "      <th>11</th>\n",
       "      <td>Wed, Oct 22</td>\n",
       "      <td>9947</td>\n",
       "      <td>838</td>\n",
       "      <td>162.0</td>\n",
       "      <td>92.0</td>\n",
       "    </tr>\n",
       "    <tr>\n",
       "      <th>12</th>\n",
       "      <td>Thu, Oct 23</td>\n",
       "      <td>8324</td>\n",
       "      <td>665</td>\n",
       "      <td>127.0</td>\n",
       "      <td>56.0</td>\n",
       "    </tr>\n",
       "    <tr>\n",
       "      <th>13</th>\n",
       "      <td>Fri, Oct 24</td>\n",
       "      <td>9434</td>\n",
       "      <td>673</td>\n",
       "      <td>220.0</td>\n",
       "      <td>122.0</td>\n",
       "    </tr>\n",
       "    <tr>\n",
       "      <th>14</th>\n",
       "      <td>Sat, Oct 25</td>\n",
       "      <td>8687</td>\n",
       "      <td>691</td>\n",
       "      <td>176.0</td>\n",
       "      <td>128.0</td>\n",
       "    </tr>\n",
       "    <tr>\n",
       "      <th>15</th>\n",
       "      <td>Sun, Oct 26</td>\n",
       "      <td>8896</td>\n",
       "      <td>708</td>\n",
       "      <td>161.0</td>\n",
       "      <td>104.0</td>\n",
       "    </tr>\n",
       "    <tr>\n",
       "      <th>16</th>\n",
       "      <td>Mon, Oct 27</td>\n",
       "      <td>9535</td>\n",
       "      <td>759</td>\n",
       "      <td>233.0</td>\n",
       "      <td>124.0</td>\n",
       "    </tr>\n",
       "    <tr>\n",
       "      <th>17</th>\n",
       "      <td>Tue, Oct 28</td>\n",
       "      <td>9363</td>\n",
       "      <td>736</td>\n",
       "      <td>154.0</td>\n",
       "      <td>91.0</td>\n",
       "    </tr>\n",
       "    <tr>\n",
       "      <th>18</th>\n",
       "      <td>Wed, Oct 29</td>\n",
       "      <td>9327</td>\n",
       "      <td>739</td>\n",
       "      <td>196.0</td>\n",
       "      <td>86.0</td>\n",
       "    </tr>\n",
       "    <tr>\n",
       "      <th>19</th>\n",
       "      <td>Thu, Oct 30</td>\n",
       "      <td>9345</td>\n",
       "      <td>734</td>\n",
       "      <td>167.0</td>\n",
       "      <td>75.0</td>\n",
       "    </tr>\n",
       "  </tbody>\n",
       "</table>\n",
       "</div>"
      ],
      "text/plain": [
       "           Date  Pageviews  Clicks  Enrollments  Payments\n",
       "0   Sat, Oct 11       7723     687        134.0      70.0\n",
       "1   Sun, Oct 12       9102     779        147.0      70.0\n",
       "2   Mon, Oct 13      10511     909        167.0      95.0\n",
       "3   Tue, Oct 14       9871     836        156.0     105.0\n",
       "4   Wed, Oct 15      10014     837        163.0      64.0\n",
       "5   Thu, Oct 16       9670     823        138.0      82.0\n",
       "6   Fri, Oct 17       9008     748        146.0      76.0\n",
       "7   Sat, Oct 18       7434     632        110.0      70.0\n",
       "8   Sun, Oct 19       8459     691        131.0      60.0\n",
       "9   Mon, Oct 20      10667     861        165.0      97.0\n",
       "10  Tue, Oct 21      10660     867        196.0     105.0\n",
       "11  Wed, Oct 22       9947     838        162.0      92.0\n",
       "12  Thu, Oct 23       8324     665        127.0      56.0\n",
       "13  Fri, Oct 24       9434     673        220.0     122.0\n",
       "14  Sat, Oct 25       8687     691        176.0     128.0\n",
       "15  Sun, Oct 26       8896     708        161.0     104.0\n",
       "16  Mon, Oct 27       9535     759        233.0     124.0\n",
       "17  Tue, Oct 28       9363     736        154.0      91.0\n",
       "18  Wed, Oct 29       9327     739        196.0      86.0\n",
       "19  Thu, Oct 30       9345     734        167.0      75.0"
      ]
     },
     "execution_count": 15,
     "metadata": {},
     "output_type": "execute_result"
    }
   ],
   "source": [
    "# we use pandas to load datasets\n",
    "control=pd.read_csv(\"control_data.csv\")\n",
    "experiment=pd.read_csv(\"experiment_data.csv\")\n",
    "control.head(20)"
   ]
  },
  {
   "cell_type": "markdown",
   "metadata": {
    "_cell_guid": "9f84eaa2-cf6a-49dc-8725-da01a50a8098",
    "_uuid": "eeb7dfe54121cf61212f66bba3d886a54778e5c7"
   },
   "source": [
    "### 6.2 Consistency Checks <a class=\"anchor\" id=\"consistency\"></a>\n",
    "First thing we have to do before even beginning to analyze this experiment's results is consistency checks. These checks help verify that the experiment was conducted as expected and that other factors did not influence the data which we collected. This also makes sure that data collection was correct.\n",
    "\n",
    "We have 3 Invariant metrics:: \n",
    "* Number of Cookies in Course Overview Page\n",
    "* Number of Clicks on Free Trial Button\n",
    "* Free Trial button Click-Through-Probability\n",
    "\n",
    "Two of these metrics are simple counts like number of cookies or number of clicks and the third is a probability (CTP). We will use two different ways of checking whether these obsereved values are like we expect (if in fact the experiment was not damaged).\n",
    "\n",
    "#### 6.2.1 Consistency Checks for differences between counts <a class=\"anchor\" id=\"check_counts\"></a>\n",
    "* **Number of cookies who viewed the course overview page** - Starting from this simple invariant metric, we want to count the total number of cookie pageviews we diverted to each group and see if there is a significant difference in the number of cookies. A significant difference will imply a biased experiment that we should not rely on it's results."
   ]
  },
  {
   "cell_type": "code",
   "execution_count": 16,
   "metadata": {
    "_cell_guid": "37ab672f-be1c-46bc-ae53-edf722bef4bc",
    "_uuid": "15652351bc793b528ca853666ddb4b7defe4f4ff"
   },
   "outputs": [
    {
     "name": "stdout",
     "output_type": "stream",
     "text": [
      "number of pageviews in control: 345543\n",
      "number of Pageviewsin experiment: 344660\n"
     ]
    }
   ],
   "source": [
    "pageviews_cont=control['Pageviews'].sum()\n",
    "pageviews_exp=experiment['Pageviews'].sum()\n",
    "pageviews_total=pageviews_cont+pageviews_exp\n",
    "print (\"number of pageviews in control:\", pageviews_cont)\n",
    "print (\"number of Pageviewsin experiment:\" ,pageviews_exp)"
   ]
  },
  {
   "cell_type": "markdown",
   "metadata": {
    "_cell_guid": "fc7fdfbe-d9d7-4239-a7be-994a8b112ce4",
    "_uuid": "fb716ffd3eb94fe822c7bcb226d05aceba25a732"
   },
   "source": [
    "Since the number of pageviews was randomly assigned with $p = 0.5$. Therefore the sample number in the control group is a binomial random variable. Since the expected numbers in each group are $(345543 + 344660)/2 = 345101.5$, we use the test statistic \n",
    "\n",
    "<center>$z = \\frac{345543 - 345101.5}{\\sqrt{690203*(1/2)*(1/2)}} = 1.062851.$</center>\n",
    "\n",
    "This result is not extreme, so we conclude that the sampling procedure was not aberrant."
   ]
  },
  {
   "cell_type": "code",
   "execution_count": 17,
   "metadata": {
    "_cell_guid": "e939e7d9-59e6-41a3-b6cf-49e9adeb17a1",
    "_uuid": "e9826a63b91cf63f0f0ab5781cf05b39105a21f8"
   },
   "outputs": [
    {
     "name": "stdout",
     "output_type": "stream",
     "text": [
      "The confidence interval is from 0 to 0.501 ; Is 0.5006 inside this range?\n"
     ]
    }
   ],
   "source": [
    "p=0.5\n",
    "alpha=0.05\n",
    "p_hat=round(pageviews_cont/(pageviews_total),4)\n",
    "sd=math.sqrt(p*(1-p)/(pageviews_total))\n",
    "ME=round(get_z_score(1-alpha)*sd,4)\n",
    "print (\"The confidence interval is from 0 to\",p+ME,\"; Is\",p_hat,\"inside this range?\")"
   ]
  },
  {
   "cell_type": "markdown",
   "metadata": {
    "_cell_guid": "d1e68346-0006-4344-b9a8-b158bcda1709",
    "_uuid": "76eb5d80bcd328f7beba1ac639dda8992e412b43"
   },
   "source": [
    "Our observed $\\hat{p}$ is inside this range which means the difference in number of samples between groups is expected. So far so good, since this invariant metric consistency test passes!\n",
    "* **Number of cookies who clicked the Free Trial Button**\n",
    "We are going to address this count with the same strategy as before."
   ]
  },
  {
   "cell_type": "code",
   "execution_count": 18,
   "metadata": {
    "_cell_guid": "4b99eec8-db1f-47b6-824b-d9dfa6ddb2de",
    "_uuid": "c60467b13e7411252af75b15c1cec19a7ab175c0"
   },
   "outputs": [
    {
     "name": "stdout",
     "output_type": "stream",
     "text": [
      "The confidence interval is between 0 and 0.5035 ; Is 0.5005 inside this range?\n"
     ]
    }
   ],
   "source": [
    "clicks_cont=control['Clicks'].sum()\n",
    "clicks_exp=experiment['Clicks'].sum()\n",
    "clicks_total=clicks_cont+clicks_exp\n",
    "\n",
    "p_hat=round(clicks_cont/clicks_total,4)\n",
    "sd=math.sqrt(p*(1-p)/clicks_total)\n",
    "ME=round(get_z_score(1-alpha)*sd,4)\n",
    "print (\"The confidence interval is between 0 and\",p+ME,\"; Is\",p_hat,\"inside this range?\")"
   ]
  },
  {
   "cell_type": "markdown",
   "metadata": {
    "_cell_guid": "112496ac-2c13-47da-b075-f41e06ae91d1",
    "_uuid": "31749d1a6e8dda73238267ed00d2f0fa3021e760"
   },
   "source": [
    "We have another pass! Great, so far it still seems all is well with our experiment results. Now, for the final metric which is a probability.\n",
    "\n",
    "#### 6.2.2 Consistency Checks for differences between probabilities <a class=\"anchor\" id=\"check_prob\"></a>\n",
    "* ** Click-through-probability (CTP) of the Free Trial Button**\n",
    "In this case, we want to make sure the proportion of clicks given a pageview (our observed CTP) is about the same in both groups (since this was not expected to change in the experiment). In order to check this out we will calculate the CTP in each group and calculate a confidence interval for the expected difference between them. \n",
    "\n",
    "In other words, we expect to see no difference ($CTP_{exp}-CTP_{cont}=0$), with an acceptable margin of error. The  pooled standard error to use in the z-test is:\n",
    "\n",
    "<center><font size=\"4\">$s_{pool}=\\sqrt{\\hat{P}_{pool}(1-\\hat{P}_{pool}) \\left( \\frac{1}{N_{cont}}+\\frac{1}{N_{exp}} \\right) }$</font></center>\n",
    "with <br> <center><font size=\"5\"> $\\hat{P}_{pool}=\\frac{x_{cont}+x_{exp}}{N_{cont}+N_{exp}}$ </font></center>"
   ]
  },
  {
   "cell_type": "code",
   "execution_count": 19,
   "metadata": {
    "_cell_guid": "8f1b7453-11b0-47e7-a53d-c28d18eceb0a",
    "_uuid": "1dd583d7d3698e0a1a8281c7f1c6c46ce2964f48"
   },
   "outputs": [
    {
     "name": "stdout",
     "output_type": "stream",
     "text": [
      "The confidence interval is between 0 and 0.0011 ; Is 0.0001 within this range?\n"
     ]
    }
   ],
   "source": [
    "ctp_cont=clicks_cont/pageviews_cont\n",
    "ctp_exp=clicks_exp/pageviews_exp\n",
    "d_hat=round(ctp_exp-ctp_cont,4)\n",
    "p_pooled=clicks_total/pageviews_total\n",
    "sd_pooled=math.sqrt(p_pooled*(1-p_pooled)*(1/pageviews_cont+1/pageviews_exp))\n",
    "ME=round(get_z_score(1-alpha)*sd_pooled,4)\n",
    "print (\"The confidence interval is between 0 and\",0+ME,\"; Is\",d_hat,\"within this range?\")"
   ]
  },
  {
   "cell_type": "markdown",
   "metadata": {
    "_cell_guid": "626356a4-5f7c-4e5b-a236-f355d8462ef8",
    "_uuid": "cfb988eee490c8ac43589c61718433a6d6f0f88f"
   },
   "source": [
    "Wonderful. It seems this test has passed with flying colors as well.\n",
    "\n",
    "### 6.3 Examining effect size <a class=\"anchor\" id=\"effect\"></a>\n",
    "The next step is looking at the changes between the control and experiment groups with regard to our evaluation metrics to make sure the difference is there, that it is statistically significant and most importantly practically significant (the difference is \"big\" enough to make the experimented change beneficial to the company).\n",
    "\n",
    "Now, all that is left is to measure for each evaluation metric, the difference between the values from both groups. Then, we compute the confidence interval for that difference and test whether or not this confidence interval is both statistically and practically significant.\n",
    "\n",
    "* **Gross Conversion**\n",
    "A metric is statistically significant if the confidence interval does not include 0 (that is, you can be confident there was a change), and it is practically significant if the confidence interval does not include the practical significance boundary (that is, you can be confident there is a change that matters to the business.)\n",
    "\n",
    "> **Important:** The given spreadsheet lists pageviews and clicks for 39 days, while it only lists enrollments and payments for 23 days. So, when working with enrollments and payments we should notice using only the corresponding pageviews and clicks, and not all of them."
   ]
  },
  {
   "cell_type": "code",
   "execution_count": 20,
   "metadata": {
    "_cell_guid": "8e13eba4-0daa-4220-a772-e1f371854d60",
    "_uuid": "6d4d94df9e5afdfdf97703292b0ef9ac6c3e4251"
   },
   "outputs": [],
   "source": [
    "# Count the total clicks from complete records only\n",
    "clicks_cont=control[\"Clicks\"].loc[control[\"Enrollments\"].notnull()].sum()\n",
    "clicks_exp=experiment[\"Clicks\"].loc[experiment[\"Enrollments\"].notnull()].sum()"
   ]
  },
  {
   "cell_type": "code",
   "execution_count": 21,
   "metadata": {
    "_cell_guid": "5615673e-529c-452a-ad48-9186cb88f74b",
    "_uuid": "3f17a8086726ee8cc01f150808f88fe8693a95a2"
   },
   "outputs": [
    {
     "name": "stdout",
     "output_type": "stream",
     "text": [
      "The change due to the experiment is -2.06 %\n",
      "The Critical Point for a One-Sided Test is:  0.72 %]\n"
     ]
    }
   ],
   "source": [
    "#Gross Conversion - number of enrollments divided by number of clicks\n",
    "enrollments_cont=control[\"Enrollments\"].sum()\n",
    "enrollments_exp=experiment[\"Enrollments\"].sum()\n",
    "\n",
    "GC_cont=enrollments_cont/clicks_cont\n",
    "GC_exp=enrollments_exp/clicks_exp\n",
    "GC_pooled=(enrollments_cont+enrollments_exp)/(clicks_cont+clicks_exp)\n",
    "GC_sd_pooled=math.sqrt(GC_pooled*(1-GC_pooled)*(1/clicks_cont+1/clicks_exp))\n",
    "GC_ME=round(get_z_score(1-alpha)*GC_sd_pooled,4)\n",
    "GC_diff=round(GC_exp-GC_cont,4)\n",
    "print(\"The change due to the experiment is\",GC_diff*100,\"%\")\n",
    "print(\"The Critical Point for a One-Sided Test is: \",GC_ME*100,\"%]\")"
   ]
  },
  {
   "cell_type": "markdown",
   "metadata": {
    "_cell_guid": "cbc93acb-0d0a-448c-8826-d69d515bfc3d",
    "_uuid": "6f1263f81625002f07c5c015ccaa8a692a7ef35f"
   },
   "source": [
    "Here is how to interpret this culminating test of Gross Conversions. (1) We determined the minimum sample size that would yield a 95% test of the null hypothesis and that also had a 20% of failing to detect a change in the alternative wof d=+1%. According to our sample size calculations, we needed a minimum of $509,100$ cookies in pageviews in order to achieve $509,100*0.08/2 = 20,364$ CTA's in each of the control and experimental groups. As noted earlier, if our sample numbers exceed $20,364$ the effective precision of the experiment can only be improved. (2) Our one sided test of the null hypothesis (GC_exp - GC_cont = 0), given a pooled standard error of $GC_exp - GC_cont$ of GC_ME = 0.72% is: Accept $H_0$ if $z\\_score \\le 0.72\\%$, and Reject $H_0$ if $z\\_score > 0.72\\%$. (3) Since $-2.06\\% < 0.72\\%$ the null hypothesis is accepted, so we conclude that there is a low probability the experiment improves the Click-through-probability. But $-2.06\\% < 1.0\\%$, the minimum practical improvement that would be acceptable. Therefore we find no evidence fin favor of switching to the experimental method, at least on the Gross Conversion metric. Apparently, the precommitment (5 hours per week) dissuaded about $2\\%$ of those who would have otherwise enrolled, an exceedingly bad result."
   ]
  },
  {
   "cell_type": "markdown",
   "metadata": {},
   "source": [
    "* **Net Conversion** \n",
    "The hypothesis is the same as before just with net conversion instead of gross. Given the results for Gross Conversions, we should expect the fraction of payers in the experimental group to decrease as well."
   ]
  },
  {
   "cell_type": "code",
   "execution_count": 22,
   "metadata": {
    "_cell_guid": "8cb352ad-fc92-4f21-b939-3874314ba8f4",
    "_uuid": "83e99af5dea50f22629ccbd34faa196d4065172f"
   },
   "outputs": [
    {
     "name": "stdout",
     "output_type": "stream",
     "text": [
      "The change due to the experiment is -0.49 %\n",
      "The Critical Point for a One-sided test is:  0.5599999999999999 %]\n"
     ]
    }
   ],
   "source": [
    "#Net Conversion - number of payments divided by number of clicks\n",
    "payments_cont=control[\"Payments\"].sum()\n",
    "payments_exp=experiment[\"Payments\"].sum()\n",
    "\n",
    "NC_cont=payments_cont/clicks_cont\n",
    "NC_exp=payments_exp/clicks_exp\n",
    "NC_pooled=(payments_cont+payments_exp)/(clicks_cont+clicks_exp)\n",
    "NC_sd_pooled=math.sqrt(NC_pooled*(1-NC_pooled)*(1/clicks_cont+1/clicks_exp))\n",
    "NC_ME=round(get_z_score(1-alpha)*NC_sd_pooled,4)\n",
    "NC_diff=round(NC_exp-NC_cont,4)\n",
    "print(\"The change due to the experiment is\",NC_diff*100,\"%\")\n",
    "print(\"The Critical Point for a One-sided test is: \",NC_ME*100,\"%]\")"
   ]
  },
  {
   "cell_type": "markdown",
   "metadata": {
    "_cell_guid": "d36717f0-2607-4f67-b16f-593f3e620b81",
    "_uuid": "fb574d1d1a255e7e9c7c12f72a1e15b34396b871"
   },
   "source": [
    "In this case we got a change size of less than $0.0075\\%$ so the empirical findinga are not practically significant. But they are also not statistically significant since $-0.49\\% < 0.07\\%$. Unfortunately, we could not test Retentions directly, but this result moots that problem since reducing the number of payees relative to click throughs is the opposite of what is desired.\n",
    "\n",
    "## 6.4 Double check with Sign Tests <a class=\"anchor\" id=\"sign_tests\"></a>\n",
    "We can use a sign test to test a trend in the changes we observed in daily data. We compute the metric's value per day and then count on how many days the metric was lower in the experimental group and this will be the number of successes. Once this is defined we can look at the proportion of days of success out of all the available days.  \n",
    "  \n",
    "Note that we would prefer to examine changes hourly, or at some other interval, because there are only 37 days in the sample and 23 usable ones, a rather small number for a sign test.\n",
    "\n",
    "### 6.4.1 Data Preparation <a class=\"anchor\" id=\"prep\"></a>"
   ]
  },
  {
   "cell_type": "code",
   "execution_count": 23,
   "metadata": {
    "_cell_guid": "d59fb882-ec0a-4cf9-9fd6-5e0271302ea6",
    "_uuid": "aae6e4d96ac0d06b3bdfece143be74d58c0fade3"
   },
   "outputs": [
    {
     "data": {
      "text/plain": [
       "Date_cont           37\n",
       "Pageviews_cont      37\n",
       "Clicks_cont         37\n",
       "Enrollments_cont    23\n",
       "Payments_cont       23\n",
       "Date_exp            37\n",
       "Pageviews_exp       37\n",
       "Clicks_exp          37\n",
       "Enrollments_exp     23\n",
       "Payments_exp        23\n",
       "dtype: int64"
      ]
     },
     "execution_count": 23,
     "metadata": {},
     "output_type": "execute_result"
    }
   ],
   "source": [
    "#let's first create the dataset we need for this:\n",
    "# start by merging the two datasets\n",
    "full=control.join(other=experiment,how=\"inner\",lsuffix=\"_cont\",rsuffix=\"_exp\")\n",
    "#Let's look at what we got\n",
    "full.count()"
   ]
  },
  {
   "cell_type": "code",
   "execution_count": 24,
   "metadata": {
    "_cell_guid": "97817e5e-9c6b-4347-96f2-ad56a11bc60f",
    "_uuid": "e2302f51793b1fcdb6c671783f0f7ab3ada7f62e"
   },
   "outputs": [
    {
     "data": {
      "text/plain": [
       "Date_cont           23\n",
       "Pageviews_cont      23\n",
       "Clicks_cont         23\n",
       "Enrollments_cont    23\n",
       "Payments_cont       23\n",
       "Date_exp            23\n",
       "Pageviews_exp       23\n",
       "Clicks_exp          23\n",
       "Enrollments_exp     23\n",
       "Payments_exp        23\n",
       "dtype: int64"
      ]
     },
     "execution_count": 24,
     "metadata": {},
     "output_type": "execute_result"
    }
   ],
   "source": [
    "#now we only need the complete data records\n",
    "full=full.loc[full[\"Enrollments_cont\"].notnull()]\n",
    "full.count()"
   ]
  },
  {
   "cell_type": "code",
   "execution_count": 25,
   "metadata": {
    "_cell_guid": "09f17781-7a21-4c4b-a239-e8ed2495f147",
    "_uuid": "a5b14c1c27a3e2c78a1313c08824e05da12b2057"
   },
   "outputs": [
    {
     "data": {
      "text/html": [
       "<div>\n",
       "<style scoped>\n",
       "    .dataframe tbody tr th:only-of-type {\n",
       "        vertical-align: middle;\n",
       "    }\n",
       "\n",
       "    .dataframe tbody tr th {\n",
       "        vertical-align: top;\n",
       "    }\n",
       "\n",
       "    .dataframe thead th {\n",
       "        text-align: right;\n",
       "    }\n",
       "</style>\n",
       "<table border=\"1\" class=\"dataframe\">\n",
       "  <thead>\n",
       "    <tr style=\"text-align: right;\">\n",
       "      <th></th>\n",
       "      <th>Date_cont</th>\n",
       "      <th>Pageviews_cont</th>\n",
       "      <th>Clicks_cont</th>\n",
       "      <th>Enrollments_cont</th>\n",
       "      <th>Payments_cont</th>\n",
       "      <th>Date_exp</th>\n",
       "      <th>Pageviews_exp</th>\n",
       "      <th>Clicks_exp</th>\n",
       "      <th>Enrollments_exp</th>\n",
       "      <th>Payments_exp</th>\n",
       "      <th>GC</th>\n",
       "      <th>NC</th>\n",
       "    </tr>\n",
       "  </thead>\n",
       "  <tbody>\n",
       "    <tr>\n",
       "      <th>0</th>\n",
       "      <td>Sat, Oct 11</td>\n",
       "      <td>7723</td>\n",
       "      <td>687</td>\n",
       "      <td>134.0</td>\n",
       "      <td>70.0</td>\n",
       "      <td>Sat, Oct 11</td>\n",
       "      <td>7716</td>\n",
       "      <td>686</td>\n",
       "      <td>105.0</td>\n",
       "      <td>34.0</td>\n",
       "      <td>0</td>\n",
       "      <td>0</td>\n",
       "    </tr>\n",
       "    <tr>\n",
       "      <th>1</th>\n",
       "      <td>Sun, Oct 12</td>\n",
       "      <td>9102</td>\n",
       "      <td>779</td>\n",
       "      <td>147.0</td>\n",
       "      <td>70.0</td>\n",
       "      <td>Sun, Oct 12</td>\n",
       "      <td>9288</td>\n",
       "      <td>785</td>\n",
       "      <td>116.0</td>\n",
       "      <td>91.0</td>\n",
       "      <td>0</td>\n",
       "      <td>1</td>\n",
       "    </tr>\n",
       "    <tr>\n",
       "      <th>2</th>\n",
       "      <td>Mon, Oct 13</td>\n",
       "      <td>10511</td>\n",
       "      <td>909</td>\n",
       "      <td>167.0</td>\n",
       "      <td>95.0</td>\n",
       "      <td>Mon, Oct 13</td>\n",
       "      <td>10480</td>\n",
       "      <td>884</td>\n",
       "      <td>145.0</td>\n",
       "      <td>79.0</td>\n",
       "      <td>0</td>\n",
       "      <td>0</td>\n",
       "    </tr>\n",
       "    <tr>\n",
       "      <th>3</th>\n",
       "      <td>Tue, Oct 14</td>\n",
       "      <td>9871</td>\n",
       "      <td>836</td>\n",
       "      <td>156.0</td>\n",
       "      <td>105.0</td>\n",
       "      <td>Tue, Oct 14</td>\n",
       "      <td>9867</td>\n",
       "      <td>827</td>\n",
       "      <td>138.0</td>\n",
       "      <td>92.0</td>\n",
       "      <td>0</td>\n",
       "      <td>0</td>\n",
       "    </tr>\n",
       "    <tr>\n",
       "      <th>4</th>\n",
       "      <td>Wed, Oct 15</td>\n",
       "      <td>10014</td>\n",
       "      <td>837</td>\n",
       "      <td>163.0</td>\n",
       "      <td>64.0</td>\n",
       "      <td>Wed, Oct 15</td>\n",
       "      <td>9793</td>\n",
       "      <td>832</td>\n",
       "      <td>140.0</td>\n",
       "      <td>94.0</td>\n",
       "      <td>0</td>\n",
       "      <td>1</td>\n",
       "    </tr>\n",
       "  </tbody>\n",
       "</table>\n",
       "</div>"
      ],
      "text/plain": [
       "     Date_cont  Pageviews_cont  Clicks_cont  Enrollments_cont  Payments_cont  \\\n",
       "0  Sat, Oct 11            7723          687             134.0           70.0   \n",
       "1  Sun, Oct 12            9102          779             147.0           70.0   \n",
       "2  Mon, Oct 13           10511          909             167.0           95.0   \n",
       "3  Tue, Oct 14            9871          836             156.0          105.0   \n",
       "4  Wed, Oct 15           10014          837             163.0           64.0   \n",
       "\n",
       "      Date_exp  Pageviews_exp  Clicks_exp  Enrollments_exp  Payments_exp  GC  \\\n",
       "0  Sat, Oct 11           7716         686            105.0          34.0   0   \n",
       "1  Sun, Oct 12           9288         785            116.0          91.0   0   \n",
       "2  Mon, Oct 13          10480         884            145.0          79.0   0   \n",
       "3  Tue, Oct 14           9867         827            138.0          92.0   0   \n",
       "4  Wed, Oct 15           9793         832            140.0          94.0   0   \n",
       "\n",
       "   NC  \n",
       "0   0  \n",
       "1   1  \n",
       "2   0  \n",
       "3   0  \n",
       "4   1  "
      ]
     },
     "execution_count": 25,
     "metadata": {},
     "output_type": "execute_result"
    }
   ],
   "source": [
    "# Perfect! Now, derive a new column for each metric, so we have it's daily values\n",
    "# We need a 1 if the experiment value is greater than the control value=\n",
    "x=full['Enrollments_cont']/full['Clicks_cont']\n",
    "y=full['Enrollments_exp']/full['Clicks_exp']\n",
    "full['GC'] = np.where(x<y,1,0)\n",
    "# The same now for net conversion\n",
    "z=full['Payments_cont']/full['Clicks_cont']\n",
    "w=full['Payments_exp']/full['Clicks_exp']\n",
    "full['NC'] = np.where(z<w,1,0)\n",
    "full.head()"
   ]
  },
  {
   "cell_type": "code",
   "execution_count": 26,
   "metadata": {
    "_cell_guid": "1b2a2c0e-bf4e-4a39-8e46-3d2c8ad17352",
    "_uuid": "904d0fb8aee7d7c40a29174197b493716adee9fa"
   },
   "outputs": [
    {
     "name": "stdout",
     "output_type": "stream",
     "text": [
      "No. of cases for GC: 4 \n",
      " No. of cases for NC: 10 \n",
      " No. of total cases 23\n"
     ]
    }
   ],
   "source": [
    "GC_x=full.GC[full[\"GC\"]==1].count()\n",
    "NC_x=full.NC[full[\"NC\"]==1].count()\n",
    "n=full.NC.count()\n",
    "print(\"No. of cases for GC:\",GC_x,'\\n',\n",
    "      \"No. of cases for NC:\",NC_x,'\\n',\n",
    "      \"No. of total cases\",n)"
   ]
  },
  {
   "cell_type": "markdown",
   "metadata": {
    "_cell_guid": "e57851c4-5cfc-4a22-b85a-db313de228e6",
    "_uuid": "b6a395fc010e3843670a3f4a396340ee1dae5740"
   },
   "source": [
    "### 6.4.2 Building a Sign Test <a class=\"anchor\" id=\"sign\"></a>\n",
    "We can forget all about this part and just use an [online sign test calculator](https://www.graphpad.com/quickcalcs/binomial2/), but for me that is just no fun - so I will implement the calculations behind it. <br>\n",
    "What we want to do after we count the amount of days in which the experiment group had a higher metric value than that of the control group, is to see if that number is likely to be seen again in a new experiment (significance). We assume the chance of a day like this is random (50% chance to happen) and then use the binomial distribution with $p=0.5$ and the number of experiments (days) to tell us the probability of this happening according to a random chance.<br>\n",
    "So, according to the binomial distribution with $p=0.5$ and $n=$total number of days; we want to now the probability of $x$ days being a success (higher metric value in experiment). Because we are doing a two-tailed test we want to double this probability and once we have we can call it the $p-value$ and compare it to our $\\alpha$. If the $p-value$ is greater than the $\\alpha$ the result is not significant and vice-versa.<br>\n",
    "<center><font size=\"4\"> $p(successes )=\\frac{n!}{x!(n-x)!}p^x(1-p)^{n-x}$ </font></center>\n",
    "Recall that a $p-value$ is the probability of observing a test statistic as or more extreme than that observed. If we observed 2 days like that, the $p-value$ for the test is: $p-value = P(x <= 2)$. We only need to remember the following:<br>\n",
    "<center>$P(x<=2)=P(0)+P(1)+P(2)$.</center><br>For more detailed information, visit [this excellent page](http://sphweb.bumc.bu.edu/otlt/mph-modules/bs/bs704_nonparametric/BS704_Nonparametric5.html).\n"
   ]
  },
  {
   "cell_type": "code",
   "execution_count": 27,
   "metadata": {
    "_cell_guid": "0cc3b899-b54b-4504-bca4-4e63fa594adb",
    "_uuid": "e4db8dc9ead5aa4dd2389d03d8c037b2a3a30f28"
   },
   "outputs": [],
   "source": [
    "#first a function for calculating probability of x=number of successes\n",
    "def get_prob(x,n):\n",
    "    p=round(math.factorial(n)/(math.factorial(x)*math.factorial(n-x))*0.5**x*0.5**(n-x),4)\n",
    "    return p\n",
    "#next a function to compute the pvalue from probabilities of maximum x\n",
    "def get_2side_pvalue(x,n):\n",
    "    p=0\n",
    "    for i in range(0,x+1):\n",
    "        p=p+get_prob(i,n)\n",
    "    return 2*p"
   ]
  },
  {
   "cell_type": "markdown",
   "metadata": {
    "_cell_guid": "47e53586-6a19-4bc6-a625-cbdf23b29673",
    "_uuid": "1742c1f207eba696a02adf533c03215d7fec00c8"
   },
   "source": [
    "Finally, to conduct the sign test itself: we will calculate the p-value for each metric, using the counts `GC_x`,`NC_x` and `n` and the function `get_2side_pvalue`."
   ]
  },
  {
   "cell_type": "code",
   "execution_count": 28,
   "metadata": {
    "_cell_guid": "04d7c5b8-e859-4040-88e0-61180d05b167",
    "_uuid": "f1f7624b436d510f36ca22df49eb1455b196485b"
   },
   "outputs": [
    {
     "name": "stdout",
     "output_type": "stream",
     "text": [
      "GC Change is significant if 0.0026000000000000003 is smaller than 0.05\n",
      "NC Change is significant if 0.6774 is smaller than 0.05\n"
     ]
    }
   ],
   "source": [
    "print (\"GC Change is significant if\",get_2side_pvalue(GC_x,n),\"is smaller than 0.05\")\n",
    "print (\"NC Change is significant if\",get_2side_pvalue(NC_x,n),\"is smaller than 0.05\")"
   ]
  },
  {
   "cell_type": "markdown",
   "metadata": {
    "_cell_guid": "2add23f9-3e0c-4b73-8f02-758dd9bb4f8a",
    "_uuid": "e3ce6967a1ebfc3f84b268645bc71f16df53f36a"
   },
   "source": [
    "We get a different conclusion from our that for effect sizes: the change in Gross conversion was not significant but the sign test is significant. Neither test was significant for Net conversions.\n",
    "\n",
    "## 7 Conclusions & Recommendations <a class=\"anchor\" id=\"conclusions\"></a>\n",
    "At this point, once we have seen that the actual underlying goal we had was not reached (increase fraction of paying users by asking them in advance if they have the time to invest in the course), we can only recommend to not continue with change. It may have caused a change in Gross conversion, but it didn't for net conversion.\n",
    "\n",
    "A wonderful summary of this experiment, analysis and results, by the amazing Andrew Bauman, can be found [here](https://github.com/baumanab/udacity_ABTesting#summary).\n",
    "\n",
    "---"
   ]
  },
  {
   "cell_type": "markdown",
   "metadata": {},
   "source": [
    "## <font color='blue'>Part III: A/B Testing with the Bootstrap</font>"
   ]
  },
  {
   "cell_type": "markdown",
   "metadata": {},
   "source": [
    "We revisit a tutorial for bootstrap methodology (**First 30 Slides Only!**), then give a Python demonstration below.  \n",
    "  \n",
    "<center>[Bootstrap Tutorial (Stine)](http://www-stat.wharton.upenn.edu/~stine/research/spida_2005.pdf)</center>\n"
   ]
  },
  {
   "cell_type": "code",
   "execution_count": 29,
   "metadata": {},
   "outputs": [],
   "source": [
    "import bootstrapped.bootstrap as bs\n",
    "import bootstrapped.compare_functions as bs_compare\n",
    "import bootstrapped.stats_functions as bs_stats"
   ]
  },
  {
   "cell_type": "markdown",
   "metadata": {},
   "source": [
    "In general A/B tests attempt to improve the metric for B over the one for A. One measure of the improvement is **lift**, defined as $\\frac{m_B}{m_A}$, where $m$ is the metric and $m_A > 0$ and $m_B > 0$."
   ]
  },
  {
   "cell_type": "code",
   "execution_count": 30,
   "metadata": {},
   "outputs": [],
   "source": [
    "# little A/B test\n",
    "# score in test are 10% greater than ctrl (per record)\n",
    "# ctrl has 5x the number of records as test\n",
    "\n",
    "# 10% lift in test\n",
    "lift = 1.1\n",
    "test = np.random.binomial(100, p=0.2 * lift, size=10000) * 1.0\n",
    "ctrl = np.random.binomial(100, p=0.2, size=50000) * 1.0"
   ]
  },
  {
   "cell_type": "code",
   "execution_count": 31,
   "metadata": {},
   "outputs": [
    {
     "data": {
      "text/plain": [
       "<matplotlib.legend.Legend at 0x116d4c160>"
      ]
     },
     "execution_count": 31,
     "metadata": {},
     "output_type": "execute_result"
    },
    {
     "data": {
      "image/png": "[encoded data removed]",
      "text/plain": [
       "<Figure size 432x288 with 1 Axes>"
      ]
     },
     "metadata": {},
     "output_type": "display_data"
    }
   ],
   "source": [
    "bins = np.linspace(0, 40, 20) # 20 bins of width 2 between 0 and 40.\n",
    "\n",
    "plt.hist(ctrl, bins=bins, label='Control')\n",
    "plt.hist(test, bins=bins, label='Test', color='orange')\n",
    "plt.title('Test/Ctrl Data')\n",
    "plt.legend()"
   ]
  },
  {
   "cell_type": "markdown",
   "metadata": {},
   "source": [
    "Note the significant right skew in the Test histogram."
   ]
  },
  {
   "cell_type": "code",
   "execution_count": 32,
   "metadata": {},
   "outputs": [
    {
     "name": "stdout",
     "output_type": "stream",
     "text": [
      "9.973416904045537\n",
      "9.973416904045537    (9.507270232707254, 10.431125560176593)\n"
     ]
    }
   ],
   "source": [
    "# Run an A/B test simulation ignoring the lengths of the series (average)\n",
    "# Just what is the 'typical' value\n",
    "# use percent change to compare test and control\n",
    "\n",
    "print(bs_compare.percent_change(test.mean(), ctrl.mean()))\n",
    "\n",
    "print(bs.bootstrap_ab(test, ctrl, bs_stats.mean, bs_compare.percent_change))"
   ]
  },
  {
   "cell_type": "markdown",
   "metadata": {},
   "source": [
    "According to the *bs_compare.percent_change* function, the test mean is about $10\\%$ higher than the control mean. This figure will vary from run to run --- why? Furthermore, the confidence interval is approximately (9.5, 10.5) does not contain zero, indicating that the means are significantly different.  \n",
    "  \n",
    "The third argument of *bs.bootstrap_ab* is *stat_func* the test statistic we use for each bootstrap sample. The fourth argument is *compare_func*, the function we use to compare the *stat_func*'s for test and control.\n",
    "  \n",
    "Here are the arguments to the bootstrapped.bootstrap_ab function. How many replications were made in the invocation of this function in the previous cell?\n",
    "  \n",
    "bs.bootstrap_ab(<br> \n",
    "> test,<br> \n",
    "> ctrl,<br> \n",
    "> stat_func,<br>\n",
    "> compare_func,<br> \n",
    "> test_denominator=None,<br> \n",
    "> ctrl_denominator=None,<br> \n",
    "> alpha=0.05,<br> \n",
    "> num_iterations=10000,<br> \n",
    "> iteration_batch_size=None,<br> \n",
    "> scale_test_by=1.0,<br> \n",
    "> is_pivotal=True,<br> \n",
    "> num_threads=1,<br> \n",
    "> return_distribution=False)<br> "
   ]
  },
  {
   "cell_type": "code",
   "execution_count": 33,
   "metadata": {},
   "outputs": [
    {
     "name": "stdout",
     "output_type": "stream",
     "text": [
      "10000\n",
      "50000\n"
     ]
    }
   ],
   "source": [
    "print(len(test))\n",
    "print(len(ctrl))"
   ]
  },
  {
   "cell_type": "code",
   "execution_count": 34,
   "metadata": {},
   "outputs": [
    {
     "name": "stdout",
     "output_type": "stream",
     "text": [
      "-78.00531661919089\n",
      "-78.00531661919089    (-78.09454502085616, -77.91448316682596)\n"
     ]
    }
   ],
   "source": [
    "# Run an A/B test simulation considering the lengths of the series (sum)\n",
    "# consider the full 'volume' of values that are passed in\n",
    "\n",
    "print(bs_compare.percent_change(test.sum(), ctrl.sum()))\n",
    "\n",
    "print(bs.bootstrap_ab(\n",
    "    test, \n",
    "    ctrl, \n",
    "    stat_func=bs_stats.sum,\n",
    "    compare_func=bs_compare.percent_change\n",
    "))"
   ]
  },
  {
   "cell_type": "markdown",
   "metadata": {},
   "source": [
    "**Advice**: For most situations we reccomend that we use 'sum' aggregate function as this will take the size of the population into account. This can be useful if you think your test will increase the total number of individuals in the population and not only the typical value per individual."
   ]
  },
  {
   "cell_type": "markdown",
   "metadata": {},
   "source": [
    "**Exception to the above advice**\n",
    "\n",
    "There are situations where you might need to make some adjustments, for example if your holdouts are sized differently.\n",
    "\n",
    "You give 100 dollars to person_A and you give 1000 dollars to person_B to bring people to your store. Say you don't know how many people person_A or person_B went after but they did each get paying customers to attend. However you do need to correct at the end for the fact that you gave person_B 10x more money than person_A"
   ]
  },
  {
   "cell_type": "code",
   "execution_count": 35,
   "metadata": {},
   "outputs": [],
   "source": [
    "# Gave $100, got 1k events on the store, $20 per event \n",
    "person_A_results = np.random.binomial(100, p=0.2, size=1000) * 1.0\n",
    "\n",
    "# Gave $1000, got 5k events on the store, $30 per event\n",
    "person_B_results = np.random.binomial(100, p=0.3, size=5000) * 1.0"
   ]
  },
  {
   "cell_type": "code",
   "execution_count": 36,
   "metadata": {},
   "outputs": [
    {
     "name": "stdout",
     "output_type": "stream",
     "text": [
      "-129718.0    (-130404.0, -129030.0)\n"
     ]
    }
   ],
   "source": [
    "# The test earned much less in terms of total dollars\n",
    "print(bs.bootstrap_ab(\n",
    "    person_A_results, \n",
    "    person_B_results, \n",
    "    stat_func=bs_stats.sum,\n",
    "    compare_func=bs_compare.difference,\n",
    "))"
   ]
  },
  {
   "cell_type": "code",
   "execution_count": 37,
   "metadata": {},
   "outputs": [
    {
     "name": "stdout",
     "output_type": "stream",
     "text": [
      "-10.0916    (-10.370409999999998, -9.813790000000001)\n"
     ]
    }
   ],
   "source": [
    "# The test gives ~$10 less per event\n",
    "print(bs.bootstrap_ab(\n",
    "    person_A_results, \n",
    "    person_B_results, \n",
    "    stat_func=bs_stats.mean,\n",
    "    compare_func=bs_compare.difference,\n",
    "))"
   ]
  },
  {
   "cell_type": "code",
   "execution_count": 38,
   "metadata": {},
   "outputs": [
    {
     "name": "stdout",
     "output_type": "stream",
     "text": [
      "48617.0    (46087.975000000006, 51136.0)\n"
     ]
    }
   ],
   "source": [
    "# If we scale the text by $$ spent - person_A should be a better return on investment\n",
    "#  - assuming person_A can achieve similar results with 10x more money\n",
    "print(bs.bootstrap_ab(\n",
    "    person_A_results, \n",
    "    person_B_results, \n",
    "    stat_func=bs_stats.sum,\n",
    "    compare_func=bs_compare.difference,\n",
    "    scale_test_by=10.,\n",
    "))"
   ]
  },
  {
   "cell_type": "markdown",
   "metadata": {},
   "source": [
    "---"
   ]
  },
  {
   "cell_type": "markdown",
   "metadata": {},
   "source": [
    "## <font color='blue'>Part IV: T-Tests for One and Two Samples</font>"
   ]
  },
  {
   "cell_type": "markdown",
   "metadata": {},
   "source": [
    "## <font color='blue'>Create Data</font>"
   ]
  },
  {
   "cell_type": "code",
   "execution_count": 39,
   "metadata": {},
   "outputs": [
    {
     "name": "stdout",
     "output_type": "stream",
     "text": [
      "43.000112\n",
      "39.26\n"
     ]
    }
   ],
   "source": [
    "np.random.seed(6)\n",
    "\n",
    "population_ages1 = stats.poisson.rvs(loc=18, mu=35, size=150000)\n",
    "population_ages2 = stats.poisson.rvs(loc=18, mu=10, size=100000)\n",
    "population_ages = np.concatenate((population_ages1, population_ages2))\n",
    "# This 'concatenate' command joins the Poisson sample of 150,000 & \n",
    "#   the one of 100,000, and designates that as the \"Population\" of\n",
    "#   250,000. Note that the Poisson is located at 18. Therefor the \n",
    "#   mean of the ages is 35*3/5 + 10*2/5 + 18 = 43. The mean shown below\n",
    "# is very close to the theoretical because of the large sample size.\n",
    "\n",
    "minnesota_ages1 = stats.poisson.rvs(loc=18, mu=30, size=30)\n",
    "minnesota_ages2 = stats.poisson.rvs(loc=18, mu=10, size=20)\n",
    "minnesota_ages = np.concatenate((minnesota_ages1, minnesota_ages2))\n",
    "# This 'concatenate' command joins a simulated 'random sample' of 50 \n",
    "#   values. The sample has the same 3:2 ratio of the Population, but\n",
    "#   the 30 ages1 values have mean 30 rather than 35. In this \n",
    "#   sample, the theoretical mean is 30*3/5 + 10*2/5 + 18 = 40. \n",
    "\n",
    "print( population_ages.mean() )\n",
    "print( minnesota_ages.mean() )\n",
    "# Differences between population due to mu=35 in Pop vs mu=30 "
   ]
  },
  {
   "cell_type": "markdown",
   "metadata": {},
   "source": [
    "## <font color='blue'>One Sample t-test</font>"
   ]
  },
  {
   "cell_type": "code",
   "execution_count": 40,
   "metadata": {},
   "outputs": [
    {
     "data": {
      "text/plain": [
       "Ttest_1sampResult(statistic=-2.5742714883655027, pvalue=0.013118685425061678)"
      ]
     },
     "execution_count": 40,
     "metadata": {},
     "output_type": "execute_result"
    }
   ],
   "source": [
    "# This is for demonstration only - in practice we (allmost) never \n",
    "# know the entire population. The one sammple test is used most \n",
    "# commonly when there is a particular value that the mean should\n",
    "# have under a null hypothesis.\n",
    "stats.ttest_1samp(a= minnesota_ages,                # Sample data\n",
    "                  popmean= population_ages.mean())  # Pop mean"
   ]
  },
  {
   "cell_type": "code",
   "execution_count": 41,
   "metadata": {},
   "outputs": [
    {
     "data": {
      "text/plain": [
       "-2.0095752344892093"
      ]
     },
     "execution_count": 41,
     "metadata": {},
     "output_type": "execute_result"
    }
   ],
   "source": [
    "stats.t.ppf(q=0.025,  # Quantile to check\n",
    "            df=49)    # Degrees of freedom df = 30 + 20 - 1"
   ]
  },
  {
   "cell_type": "code",
   "execution_count": 42,
   "metadata": {},
   "outputs": [
    {
     "data": {
      "text/plain": [
       "(36.369669080722176, 42.15033091927782)"
      ]
     },
     "execution_count": 42,
     "metadata": {},
     "output_type": "execute_result"
    }
   ],
   "source": [
    "sigma = minnesota_ages.std()/math.sqrt(50)    # Sample stdev/sqrt(sample size)\n",
    "\n",
    "# This command produces a 95% confidence interval for the minnesota sample. \n",
    "# Note that it would work for any sample.\n",
    "# It assumes the 'center' is the 'loc' parameter, and 'standard deviation'\n",
    "# is the 'scale' parameter.\n",
    "stats.t.interval(0.95,                        # Confidence level\n",
    "                 df = 49,                     # Degrees of freedom\n",
    "                 loc = minnesota_ages.mean(), # Sample mean\n",
    "                 scale= sigma)                # Standard dev estimate"
   ]
  },
  {
   "cell_type": "code",
   "execution_count": 43,
   "metadata": {},
   "outputs": [
    {
     "data": {
      "text/plain": [
       "(35.40547994092107, 43.11452005907893)"
      ]
     },
     "execution_count": 43,
     "metadata": {},
     "output_type": "execute_result"
    }
   ],
   "source": [
    "# And this one, 99% confidence interval. \n",
    "stats.t.interval(alpha = 0.99,                # Confidence level\n",
    "                 df = 49,                     # Degrees of freedom\n",
    "                 loc = minnesota_ages.mean(), # Sample mean\n",
    "                 scale= sigma)                # Standard dev estimate"
   ]
  },
  {
   "cell_type": "markdown",
   "metadata": {},
   "source": [
    "## <font color='blue'>Two Sample t-test</font>"
   ]
  },
  {
   "cell_type": "code",
   "execution_count": 44,
   "metadata": {},
   "outputs": [
    {
     "name": "stdout",
     "output_type": "stream",
     "text": [
      "42.8\n"
     ]
    }
   ],
   "source": [
    "# In simulations, the same random sequence can be generated by using \n",
    "# the same seed. If the seed below were changed, \n",
    "np.random.seed(12)\n",
    "\n",
    "# Create a second sample.\n",
    "wisconsin_ages1 = stats.poisson.rvs(loc=18, mu=33, size=30)\n",
    "wisconsin_ages2 = stats.poisson.rvs(loc=18, mu=13, size=20)\n",
    "wisconsin_ages = np.concatenate((wisconsin_ages1, wisconsin_ages2))\n",
    "\n",
    "print( wisconsin_ages.mean() )"
   ]
  },
  {
   "cell_type": "code",
   "execution_count": 45,
   "metadata": {},
   "outputs": [
    {
     "data": {
      "text/plain": [
       "Ttest_indResult(statistic=-1.7083870793286842, pvalue=0.09073104343957748)"
      ]
     },
     "execution_count": 45,
     "metadata": {},
     "output_type": "execute_result"
    }
   ],
   "source": [
    "# The ttest_ind applies the ttest to 'independent' samples of minnesota_ages\n",
    "# and wisconsin_ages.\n",
    "stats.ttest_ind(a= minnesota_ages,\n",
    "                b= wisconsin_ages,\n",
    "                equal_var=False)    # Assume samples have equal variance?"
   ]
  },
  {
   "cell_type": "markdown",
   "metadata": {},
   "source": [
    "## <font color='blue'>Paired t-test</font>"
   ]
  },
  {
   "cell_type": "code",
   "execution_count": 46,
   "metadata": {},
   "outputs": [
    {
     "data": {
      "text/html": [
       "<div>\n",
       "<style scoped>\n",
       "    .dataframe tbody tr th:only-of-type {\n",
       "        vertical-align: middle;\n",
       "    }\n",
       "\n",
       "    .dataframe tbody tr th {\n",
       "        vertical-align: top;\n",
       "    }\n",
       "\n",
       "    .dataframe thead th {\n",
       "        text-align: right;\n",
       "    }\n",
       "</style>\n",
       "<table border=\"1\" class=\"dataframe\">\n",
       "  <thead>\n",
       "    <tr style=\"text-align: right;\">\n",
       "      <th></th>\n",
       "      <th>weight_before</th>\n",
       "      <th>weight_after</th>\n",
       "      <th>weight_change</th>\n",
       "    </tr>\n",
       "  </thead>\n",
       "  <tbody>\n",
       "    <tr>\n",
       "      <th>count</th>\n",
       "      <td>100.000000</td>\n",
       "      <td>100.000000</td>\n",
       "      <td>100.000000</td>\n",
       "    </tr>\n",
       "    <tr>\n",
       "      <th>mean</th>\n",
       "      <td>250.345546</td>\n",
       "      <td>249.115171</td>\n",
       "      <td>-1.230375</td>\n",
       "    </tr>\n",
       "    <tr>\n",
       "      <th>std</th>\n",
       "      <td>28.132539</td>\n",
       "      <td>28.422183</td>\n",
       "      <td>4.783696</td>\n",
       "    </tr>\n",
       "    <tr>\n",
       "      <th>min</th>\n",
       "      <td>170.400443</td>\n",
       "      <td>165.913930</td>\n",
       "      <td>-11.495286</td>\n",
       "    </tr>\n",
       "    <tr>\n",
       "      <th>25%</th>\n",
       "      <td>230.421042</td>\n",
       "      <td>229.148236</td>\n",
       "      <td>-4.046211</td>\n",
       "    </tr>\n",
       "    <tr>\n",
       "      <th>50%</th>\n",
       "      <td>250.830805</td>\n",
       "      <td>251.134089</td>\n",
       "      <td>-1.413463</td>\n",
       "    </tr>\n",
       "    <tr>\n",
       "      <th>75%</th>\n",
       "      <td>270.637145</td>\n",
       "      <td>268.927258</td>\n",
       "      <td>1.738673</td>\n",
       "    </tr>\n",
       "    <tr>\n",
       "      <th>max</th>\n",
       "      <td>314.700233</td>\n",
       "      <td>316.720357</td>\n",
       "      <td>9.759282</td>\n",
       "    </tr>\n",
       "  </tbody>\n",
       "</table>\n",
       "</div>"
      ],
      "text/plain": [
       "       weight_before  weight_after  weight_change\n",
       "count     100.000000    100.000000     100.000000\n",
       "mean      250.345546    249.115171      -1.230375\n",
       "std        28.132539     28.422183       4.783696\n",
       "min       170.400443    165.913930     -11.495286\n",
       "25%       230.421042    229.148236      -4.046211\n",
       "50%       250.830805    251.134089      -1.413463\n",
       "75%       270.637145    268.927258       1.738673\n",
       "max       314.700233    316.720357       9.759282"
      ]
     },
     "execution_count": 46,
     "metadata": {},
     "output_type": "execute_result"
    }
   ],
   "source": [
    "# Create a simulated paired dataset.\n",
    "# Note that the 'after' variable adds a bit of normal \n",
    "# noise to before with an offset of -1.25.\n",
    "\n",
    "np.random.seed(11)\n",
    "before= stats.norm.rvs(scale=30, loc=250, size=100)\n",
    "after = before + stats.norm.rvs(scale=5, loc=-1.25, size=100)\n",
    "weight_df = pd.DataFrame({\"weight_before\":before,\n",
    "                          \"weight_after\":after,\n",
    "                          \"weight_change\":after-before})\n",
    "weight_df.describe()      "
   ]
  },
  {
   "cell_type": "code",
   "execution_count": 47,
   "metadata": {
    "scrolled": true
   },
   "outputs": [
    {
     "data": {
      "text/plain": [
       "Ttest_relResult(statistic=2.5720175998568284, pvalue=0.011596444318439857)"
      ]
     },
     "execution_count": 47,
     "metadata": {},
     "output_type": "execute_result"
    }
   ],
   "source": [
    "# The command ttest_rel performs a paired t-test on variables 'before' \n",
    "# and 'after'. The test is valid on this small sample of 100 because \n",
    "# the 'before - after' values are normally distributed by construction.\n",
    "stats.ttest_rel(a = before,\n",
    "                b = after)"
   ]
  },
  {
   "cell_type": "markdown",
   "metadata": {},
   "source": [
    "## <font color='blue'>Part V: Maximum Likelihood</font>"
   ]
  },
  {
   "cell_type": "markdown",
   "metadata": {},
   "source": [
    "### <font color='blue'>Simulate Data</font>"
   ]
  },
  {
   "cell_type": "code",
   "execution_count": 48,
   "metadata": {},
   "outputs": [],
   "source": [
    "# generate data\n",
    "N = 100\n",
    "x = np.linspace(0,20,N)\n",
    "ϵ = np.random.normal(loc = 0.0, scale = 5.0, size = N)\n",
    "y = 3*x + ϵ\n",
    "df = pd.DataFrame({'y':y, 'x':x})\n",
    "df['constant'] = 1"
   ]
  },
  {
   "cell_type": "code",
   "execution_count": 49,
   "metadata": {},
   "outputs": [
    {
     "data": {
      "image/png": "[encoded data removed]",
      "text/plain": [
       "<Figure size 432x288 with 1 Axes>"
      ]
     },
     "metadata": {},
     "output_type": "display_data"
    }
   ],
   "source": [
    "# plot\n",
    "sns.regplot(df.x, df.y);"
   ]
  },
  {
   "cell_type": "markdown",
   "metadata": {},
   "source": [
    "### <font color='blue'>Maximum Likelihood Estimates for a Normal Distribution</font>"
   ]
  },
  {
   "cell_type": "code",
   "execution_count": 50,
   "metadata": {},
   "outputs": [
    {
     "data": {
      "text/html": [
       "<table class=\"simpletable\">\n",
       "<caption>OLS Regression Results</caption>\n",
       "<tr>\n",
       "  <th>Dep. Variable:</th>            <td>y</td>        <th>  R-squared:         </th> <td>   0.926</td>\n",
       "</tr>\n",
       "<tr>\n",
       "  <th>Model:</th>                   <td>OLS</td>       <th>  Adj. R-squared:    </th> <td>   0.925</td>\n",
       "</tr>\n",
       "<tr>\n",
       "  <th>Method:</th>             <td>Least Squares</td>  <th>  F-statistic:       </th> <td>   1228.</td>\n",
       "</tr>\n",
       "<tr>\n",
       "  <th>Date:</th>             <td>Sun, 04 Nov 2018</td> <th>  Prob (F-statistic):</th> <td>3.11e-57</td>\n",
       "</tr>\n",
       "<tr>\n",
       "  <th>Time:</th>                 <td>22:39:35</td>     <th>  Log-Likelihood:    </th> <td> -303.70</td>\n",
       "</tr>\n",
       "<tr>\n",
       "  <th>No. Observations:</th>      <td>   100</td>      <th>  AIC:               </th> <td>   611.4</td>\n",
       "</tr>\n",
       "<tr>\n",
       "  <th>Df Residuals:</th>          <td>    98</td>      <th>  BIC:               </th> <td>   616.6</td>\n",
       "</tr>\n",
       "<tr>\n",
       "  <th>Df Model:</th>              <td>     1</td>      <th>                     </th>     <td> </td>   \n",
       "</tr>\n",
       "<tr>\n",
       "  <th>Covariance Type:</th>      <td>nonrobust</td>    <th>                     </th>     <td> </td>   \n",
       "</tr>\n",
       "</table>\n",
       "<table class=\"simpletable\">\n",
       "<tr>\n",
       "      <td></td>        <th>coef</th>     <th>std err</th>      <th>t</th>      <th>P>|t|</th>  <th>[0.025</th>    <th>0.975]</th>  \n",
       "</tr>\n",
       "<tr>\n",
       "  <th>constant</th> <td>   -0.6911</td> <td>    1.011</td> <td>   -0.683</td> <td> 0.496</td> <td>   -2.698</td> <td>    1.316</td>\n",
       "</tr>\n",
       "<tr>\n",
       "  <th>x</th>        <td>    3.0610</td> <td>    0.087</td> <td>   35.038</td> <td> 0.000</td> <td>    2.888</td> <td>    3.234</td>\n",
       "</tr>\n",
       "</table>\n",
       "<table class=\"simpletable\">\n",
       "<tr>\n",
       "  <th>Omnibus:</th>       <td> 1.063</td> <th>  Durbin-Watson:     </th> <td>   1.881</td>\n",
       "</tr>\n",
       "<tr>\n",
       "  <th>Prob(Omnibus):</th> <td> 0.588</td> <th>  Jarque-Bera (JB):  </th> <td>   1.090</td>\n",
       "</tr>\n",
       "<tr>\n",
       "  <th>Skew:</th>          <td>-0.141</td> <th>  Prob(JB):          </th> <td>   0.580</td>\n",
       "</tr>\n",
       "<tr>\n",
       "  <th>Kurtosis:</th>      <td> 2.573</td> <th>  Cond. No.          </th> <td>    23.1</td>\n",
       "</tr>\n",
       "</table><br/><br/>Warnings:<br/>[1] Standard Errors assume that the covariance matrix of the errors is correctly specified."
      ],
      "text/plain": [
       "<class 'statsmodels.iolib.summary.Summary'>\n",
       "\"\"\"\n",
       "                            OLS Regression Results                            \n",
       "==============================================================================\n",
       "Dep. Variable:                      y   R-squared:                       0.926\n",
       "Model:                            OLS   Adj. R-squared:                  0.925\n",
       "Method:                 Least Squares   F-statistic:                     1228.\n",
       "Date:                Sun, 04 Nov 2018   Prob (F-statistic):           3.11e-57\n",
       "Time:                        22:39:35   Log-Likelihood:                -303.70\n",
       "No. Observations:                 100   AIC:                             611.4\n",
       "Df Residuals:                      98   BIC:                             616.6\n",
       "Df Model:                           1                                         \n",
       "Covariance Type:            nonrobust                                         \n",
       "==============================================================================\n",
       "                 coef    std err          t      P>|t|      [0.025      0.975]\n",
       "------------------------------------------------------------------------------\n",
       "constant      -0.6911      1.011     -0.683      0.496      -2.698       1.316\n",
       "x              3.0610      0.087     35.038      0.000       2.888       3.234\n",
       "==============================================================================\n",
       "Omnibus:                        1.063   Durbin-Watson:                   1.881\n",
       "Prob(Omnibus):                  0.588   Jarque-Bera (JB):                1.090\n",
       "Skew:                          -0.141   Prob(JB):                        0.580\n",
       "Kurtosis:                       2.573   Cond. No.                         23.1\n",
       "==============================================================================\n",
       "\n",
       "Warnings:\n",
       "[1] Standard Errors assume that the covariance matrix of the errors is correctly specified.\n",
       "\"\"\""
      ]
     },
     "execution_count": 50,
     "metadata": {},
     "output_type": "execute_result"
    }
   ],
   "source": [
    "# split features and target\n",
    "X = df[['constant', 'x']]\n",
    "# fit model and summarize\n",
    "sm.OLS(y,X).fit().summary()"
   ]
  },
  {
   "cell_type": "code",
   "execution_count": 51,
   "metadata": {},
   "outputs": [],
   "source": [
    "# define likelihood function\n",
    "def MLERegression(params):\n",
    " intercept, beta, sd = params[0], params[1], params[2] # inputs are guesses at our parameters\n",
    " yhat = intercept + beta*x # predictions\n",
    "# next, we flip the Bayesian question\n",
    "# compute PDF of observed values normally distributed around mean (yhat)\n",
    "# with a standard deviation of sd\n",
    " negLL = -np.sum( stats.norm.logpdf(y, loc=yhat, scale=sd) )\n",
    "# return negative LL\n",
    " return(negLL)"
   ]
  },
  {
   "cell_type": "code",
   "execution_count": 52,
   "metadata": {},
   "outputs": [],
   "source": [
    "# let’s start with some random coefficient guesses and optimize\n",
    "guess = np.array([5,5,2])\n",
    "results = optimize.minimize(MLERegression, guess, method = 'Nelder-Mead')"
   ]
  },
  {
   "cell_type": "code",
   "execution_count": 53,
   "metadata": {},
   "outputs": [
    {
     "data": {
      "text/plain": [
       " final_simplex: (array([[-0.6910448 ,  3.06104578,  5.04345122],\n",
       "       [-0.69111898,  3.06105256,  5.04344869],\n",
       "       [-0.69106866,  3.06104844,  5.04343591],\n",
       "       [-0.69106002,  3.06104451,  5.04345114]]), array([303.70299834, 303.70299834, 303.70299834, 303.70299834]))\n",
       "           fun: 303.7029983388984\n",
       "       message: 'Optimization terminated successfully.'\n",
       "          nfev: 174\n",
       "           nit: 96\n",
       "        status: 0\n",
       "       success: True\n",
       "             x: array([-0.6910448 ,  3.06104578,  5.04345122])"
      ]
     },
     "execution_count": 53,
     "metadata": {},
     "output_type": "execute_result"
    }
   ],
   "source": [
    "results"
   ]
  },
  {
   "cell_type": "markdown",
   "metadata": {},
   "source": [
    "## <font color='blue'>Part VI: Duke Bootstrap Tutorial</font>"
   ]
  },
  {
   "cell_type": "markdown",
   "metadata": {},
   "source": [
    "Tutorial taken from the Duke website\n",
    "\n",
    "https://people.duke.edu/~ccc14/sta-663/ResamplingAndMonteCarloSimulations.html"
   ]
  },
  {
   "cell_type": "markdown",
   "metadata": {},
   "source": [
    "### <font color='blue'>Selecting random subsets using numpy</font>"
   ]
  },
  {
   "cell_type": "code",
   "execution_count": null,
   "metadata": {},
   "outputs": [],
   "source": [
    "import glob\n",
    "\n",
    "%matplotlib inline\n",
    "%precision 4\n",
    "plt.style.use('ggplot')"
   ]
  },
  {
   "cell_type": "code",
   "execution_count": null,
   "metadata": {},
   "outputs": [],
   "source": [
    "np.set_printoptions(formatter={'float': lambda x: '%.3f' % x})\n",
    "np.random.seed(123)"
   ]
  },
  {
   "cell_type": "code",
   "execution_count": null,
   "metadata": {},
   "outputs": [],
   "source": [
    "# Sampling is done with replacement by default\n",
    "np.random.choice(4, 12)"
   ]
  },
  {
   "cell_type": "code",
   "execution_count": null,
   "metadata": {},
   "outputs": [],
   "source": [
    "x = np.random.randint(0, 10, (8, 12))\n",
    "x"
   ]
  },
  {
   "cell_type": "code",
   "execution_count": null,
   "metadata": {},
   "outputs": [],
   "source": [
    "# sampling individual elements\n",
    "np.random.choice(x.ravel(), 12)"
   ]
  },
  {
   "cell_type": "code",
   "execution_count": null,
   "metadata": {},
   "outputs": [],
   "source": [
    "# sampling rows\n",
    "idx = np.random.choice(x.shape[0], 4)\n",
    "x[idx, :]"
   ]
  },
  {
   "cell_type": "code",
   "execution_count": null,
   "metadata": {},
   "outputs": [],
   "source": [
    "x"
   ]
  },
  {
   "cell_type": "code",
   "execution_count": null,
   "metadata": {
    "scrolled": true
   },
   "outputs": [],
   "source": [
    "np.random.shuffle(x)\n",
    "x"
   ]
  },
  {
   "cell_type": "code",
   "execution_count": null,
   "metadata": {},
   "outputs": [],
   "source": [
    "np.random.shuffle(x.T)\n",
    "x"
   ]
  },
  {
   "cell_type": "code",
   "execution_count": null,
   "metadata": {},
   "outputs": [],
   "source": [
    "np.random.permutation(x)"
   ]
  },
  {
   "cell_type": "code",
   "execution_count": null,
   "metadata": {},
   "outputs": [],
   "source": [
    "# Use indices if you needed to shuffle collections of arrays in synchrony\n",
    "x = np.arange(12).reshape(4,3)\n",
    "y = x + 10\n",
    "idx = np.random.permutation(x.shape[0])\n",
    "print(x[idx, :])\n",
    "print(y[idx, :])"
   ]
  },
  {
   "cell_type": "markdown",
   "metadata": {},
   "source": [
    "### <font color='blue'>Illustration of the Bootstrap</font>"
   ]
  },
  {
   "cell_type": "code",
   "execution_count": null,
   "metadata": {},
   "outputs": [],
   "source": [
    "# For example, what is the 95% confidence interval for\n",
    "# the mean of this data set if you didn't know how it was generated?\n",
    "\n",
    "x = np.concatenate([np.random.exponential(size=200), np.random.normal(size=100)])\n",
    "plt.hist(x, 25, histtype='step');"
   ]
  },
  {
   "cell_type": "code",
   "execution_count": null,
   "metadata": {},
   "outputs": [],
   "source": [
    "n = len(x)\n",
    "reps = 10000\n",
    "xb = np.random.choice(x, (n, reps))\n",
    "mb = xb.mean(axis=0)\n",
    "mb.sort()\n",
    "\n",
    "np.percentile(mb, [2.5, 97.5])"
   ]
  },
  {
   "cell_type": "code",
   "execution_count": null,
   "metadata": {},
   "outputs": [],
   "source": [
    "def f(x):\n",
    "    return x * np.cos(71*x) + np.sin(13*x)"
   ]
  },
  {
   "cell_type": "code",
   "execution_count": null,
   "metadata": {},
   "outputs": [],
   "source": [
    "# data sample for integration\n",
    "n = 100\n",
    "x = f(np.random.random(n))"
   ]
  },
  {
   "cell_type": "code",
   "execution_count": null,
   "metadata": {},
   "outputs": [],
   "source": [
    "# bootstrap MC integration\n",
    "reps = 1000\n",
    "xb = np.random.choice(x, (n, reps), replace=True)\n",
    "yb = 1/np.arange(1, n+1)[:, None] * np.cumsum(xb, axis=0)\n",
    "upper, lower = np.percentile(yb, [2.5, 97.5], axis=1)"
   ]
  },
  {
   "cell_type": "code",
   "execution_count": null,
   "metadata": {},
   "outputs": [],
   "source": [
    "plt.plot(np.arange(1, n+1)[:, None], yb, c='grey', alpha=0.02)\n",
    "plt.plot(np.arange(1, n+1), yb[:, 0], c='red', linewidth=1)\n",
    "plt.plot(np.arange(1, n+1), upper, 'b', np.arange(1, n+1), lower, 'b');"
   ]
  },
  {
   "cell_type": "markdown",
   "metadata": {},
   "source": [
    "## <font color='blue'>Permutation Resampling</font>"
   ]
  },
  {
   "cell_type": "code",
   "execution_count": null,
   "metadata": {},
   "outputs": [],
   "source": [
    "def stirling(n):\n",
    "    \"\"\"Stirling's approximation to the factorial.\"\"\"\n",
    "    return np.sqrt(2*np.pi*n)*(n/np.e)**n\n",
    "\n",
    "n = np.arange(1, 51)\n",
    "zip(n, stirling(n))"
   ]
  },
  {
   "cell_type": "code",
   "execution_count": null,
   "metadata": {},
   "outputs": [],
   "source": [
    "x = np.concatenate([np.random.exponential(size=200),\n",
    "                    np.random.normal(0, 1, size=100)])\n",
    "y = np.concatenate([np.random.exponential(size=250),\n",
    "                    np.random.normal(0, 1, size=50)])"
   ]
  },
  {
   "cell_type": "code",
   "execution_count": null,
   "metadata": {},
   "outputs": [],
   "source": [
    "n1, n2 = map(len, (x, y))\n",
    "reps = 10000\n",
    "\n",
    "data = np.concatenate([x, y])\n",
    "ps = np.array([np.random.permutation(n1+n2) for i in range(reps)])"
   ]
  },
  {
   "cell_type": "code",
   "execution_count": null,
   "metadata": {},
   "outputs": [],
   "source": [
    "xp = data[ps[:, :n1]]\n",
    "yp = data[ps[:, n1:]]\n",
    "samples = np.percentile(xp, 7, axis=1) - np.percentile(yp, 7, axis=1)"
   ]
  },
  {
   "cell_type": "code",
   "execution_count": null,
   "metadata": {},
   "outputs": [],
   "source": [
    "plt.hist(samples, 25, histtype='step')\n",
    "test_stat = np.percentile(x, 7) - np.percentile(y, 7)\n",
    "plt.axvline(test_stat)\n",
    "plt.axvline(np.percentile(samples, 2.5), linestyle='--')\n",
    "plt.axvline(np.percentile(samples, 97.5), linestyle='--')\n",
    "print(\"p-value =\", 2*np.sum(samples >= np.abs(test_stat))/reps)"
   ]
  },
  {
   "cell_type": "code",
   "execution_count": null,
   "metadata": {},
   "outputs": [],
   "source": [
    "np.random.seed(52)\n",
    "\n",
    "ngenes = 100\n",
    "ncases = 500\n",
    "nctrls = 500\n",
    "nsamples = ncases + nctrls\n",
    "x = np.random.normal(0, 1, (ngenes, nsamples))"
   ]
  },
  {
   "cell_type": "code",
   "execution_count": null,
   "metadata": {},
   "outputs": [],
   "source": [
    "t, p0 = stats.ttest_ind(x[:, :ncases], x[:, ncases:], axis=1)\n",
    "idx = p0 < 0.05\n",
    "zip(np.nonzero(idx)[0], p0[idx])"
   ]
  },
  {
   "cell_type": "code",
   "execution_count": null,
   "metadata": {},
   "outputs": [],
   "source": [
    "vmin = x.min()\n",
    "vmax = x.max()\n",
    "\n",
    "plt.subplot(121)\n",
    "plt.imshow(x[:, :ncases], extent=[0, 1, 0, 2], interpolation='nearest',\n",
    "           vmin=vmin, vmax=vmax, cmap='jet')\n",
    "plt.xticks([])\n",
    "plt.yticks([])\n",
    "plt.title('Controls')\n",
    "plt.subplot(122)\n",
    "plt.imshow(x[:, ncases:], extent=[0, 1, 0, 2], interpolation='nearest',\n",
    "           vmin=vmin, vmax=vmax, cmap='jet')\n",
    "plt.xticks([])\n",
    "plt.yticks([])\n",
    "plt.title('Cases')\n",
    "plt.colorbar();"
   ]
  },
  {
   "cell_type": "code",
   "execution_count": null,
   "metadata": {},
   "outputs": [],
   "source": [
    "p1 = np.clip(ngenes * p0, 0, 1)\n",
    "idx = p1 < 0.05\n",
    "zip(np.nonzero(idx)[0], p1[idx])"
   ]
  },
  {
   "cell_type": "code",
   "execution_count": null,
   "metadata": {},
   "outputs": [],
   "source": [
    "# Let's see if the smallest adjusted p-value is significant\n",
    "k = 0\n",
    "p0s = np.array(sorted(p0))\n",
    "print(\"Gene\\tUnadjusted p\")\n",
    "print(np.argsort(p0)[k], '\\t', p0s[k])"
   ]
  },
  {
   "cell_type": "code",
   "execution_count": null,
   "metadata": {},
   "outputs": [],
   "source": [
    "# Do many permutations\n",
    "nperms = 10000\n",
    "\n",
    "ps = np.zeros(nperms)\n",
    "for i in range(nperms):\n",
    "    sidx = np.random.permutation(nsamples)\n",
    "    y = x[:, sidx]\n",
    "    pvals = stats.ttest_ind(y[:, :ncases], y[:, ncases:], axis=1)[1]\n",
    "    pvals.sort()\n",
    "    ps[i] = pvals[k]\n",
    "\n",
    "print(\"Gene\\tUnadjusted p\\t\\tAdjusted p\")\n",
    "print(np.argsort(p0[k]), '\\t', p0s[k], '\\t', np.sum(ps < p0s[k])/nperms)"
   ]
  },
  {
   "cell_type": "code",
   "execution_count": null,
   "metadata": {},
   "outputs": [],
   "source": [
    "# This is the maxT step-down method\n",
    "# Assumes that the distribution of T-statistics is the same for all genes\n",
    "\n",
    "nperms = 10000\n",
    "k = ngenes\n",
    "\n",
    "counts = np.zeros((nperms, k))\n",
    "ranks = np.argsort(np.abs(t))[::-1]\n",
    "for i in range(nperms):\n",
    "    u = np.zeros(k)\n",
    "    sidx = np.random.permutation(nsamples)\n",
    "    y = x[:, sidx]\n",
    "    tb, pb = stats.ttest_ind(y[:, :ncases], y[:, ncases:], axis=1)\n",
    "    u[k-1] = np.abs(tb[ranks[k-1]])\n",
    "    for j in range(k-2, -1, -1):\n",
    "        u[j] = max(u[j+1], np.abs(tb[ranks[j]]))\n",
    "    counts[i] = (u >= np.abs(t[ranks]))\n",
    "\n",
    "p2 = np.sum(counts, axis=0)/nperms\n",
    "for i in range(1, k):\n",
    "    p2[i] = max(p2[i],p2[i-1])\n",
    "idx = p2 < 0.05\n",
    "zip(ranks, p2[idx])"
   ]
  },
  {
   "cell_type": "code",
   "execution_count": null,
   "metadata": {},
   "outputs": [],
   "source": [
    "plt.plot(sorted(p0), label='No correction')\n",
    "plt.plot(sorted(p1), label='Bonferroni')\n",
    "plt.plot(sorted(p2), label='Westfall-Young')\n",
    "plt.ylim([0,1])\n",
    "plt.legend(loc='best');"
   ]
  },
  {
   "cell_type": "code",
   "execution_count": null,
   "metadata": {},
   "outputs": [],
   "source": [
    "np.random.seed(52)\n",
    "\n",
    "ngenes = 100\n",
    "ncases = 500\n",
    "nctrls = 500\n",
    "nsamples = ncases + nctrls\n",
    "\n",
    "x = np.repeat(np.random.normal(0, 1, (1, nsamples)), ngenes, axis=0)"
   ]
  },
  {
   "cell_type": "code",
   "execution_count": null,
   "metadata": {},
   "outputs": [],
   "source": [
    "x[:5,:5]"
   ]
  },
  {
   "cell_type": "code",
   "execution_count": null,
   "metadata": {},
   "outputs": [],
   "source": [
    "t, p0 = stats.ttest_ind(x[:, :ncases], x[:, ncases:], axis=1)\n",
    "idx = p0 < 0.05\n",
    "print('Minimum p-value', p0.min(), '# significant', idx.sum())"
   ]
  },
  {
   "cell_type": "code",
   "execution_count": null,
   "metadata": {},
   "outputs": [],
   "source": [
    "p1 = np.clip(len(p0) * p0, 0, 1)\n",
    "idx = p1 < 0.05\n",
    "print('Minimum p-value', p1.min(), '# significant', idx.sum())"
   ]
  },
  {
   "cell_type": "code",
   "execution_count": null,
   "metadata": {},
   "outputs": [],
   "source": [
    "nperms = 10000\n",
    "\n",
    "counts = np.zeros((nperms, k))\n",
    "ranks = np.argsort(np.abs(t))[::-1]\n",
    "for i in range(nperms):\n",
    "    u = np.zeros(k)\n",
    "    sidx = np.random.permutation(nsamples)\n",
    "    y = x[:, sidx]\n",
    "    tb, pb = stats.ttest_ind(y[:, :ncases], y[:, ncases:], axis=1)\n",
    "    u[k-1] = np.abs(tb[ranks[k-1]])\n",
    "    for j in range(k-2, -1, -1):\n",
    "        u[j] = max(u[j+1], np.abs(tb[ranks[j]]))\n",
    "    counts[i] = (u >= np.abs(t[ranks]))\n",
    "\n",
    "p2 = np.sum(counts, axis=0)/nperms\n",
    "for i in range(1, k):\n",
    "    p2[i] = max(p2[i],p2[i-1])\n",
    "idx = p2 < 0.05\n",
    "\n",
    "print('Minimum p-value', p2.min(), '# significant', idx.sum())"
   ]
  },
  {
   "cell_type": "code",
   "execution_count": null,
   "metadata": {},
   "outputs": [],
   "source": [
    "plt.plot(sorted(p1), label='Bonferroni')\n",
    "plt.plot(sorted(p2), label='Westfall-Young')\n",
    "plt.ylim([-0.05,1.05])\n",
    "plt.legend(loc='best');"
   ]
  },
  {
   "cell_type": "markdown",
   "metadata": {},
   "source": [
    "## <font color='blue'>Monte Carlo Simulations</font>"
   ]
  },
  {
   "cell_type": "markdown",
   "metadata": {},
   "source": [
    "### <font color='blue'>Power of a Test</font>"
   ]
  },
  {
   "cell_type": "code",
   "execution_count": null,
   "metadata": {},
   "outputs": [],
   "source": [
    "# Run nresps simulations\n",
    "# The power is simply the fraction of reps where\n",
    "# the p-value is less than 0.05\n",
    "\n",
    "nreps = 10000\n",
    "d = 0.5\n",
    "\n",
    "n = 50\n",
    "power = 0\n",
    "while power < 0.8:\n",
    "    n1 = n2 = n\n",
    "    x = np.random.normal(0, 1, (n1, nreps))\n",
    "    y = np.random.normal(d, 1, (n2, nreps))\n",
    "    t, p = stats.ttest_ind(x, y)\n",
    "    power = (p < 0.05).sum()/nreps\n",
    "    print(n, power)\n",
    "    n += 1"
   ]
  },
  {
   "cell_type": "markdown",
   "metadata": {},
   "source": [
    "### <font color='blue'>Estimate a CDF</font>"
   ]
  },
  {
   "cell_type": "code",
   "execution_count": null,
   "metadata": {},
   "outputs": [],
   "source": [
    "# Make up some random data\n",
    "x = np.concatenate([np.random.normal(0, 1, 10000),\n",
    "                    np.random.normal(4, 1, 10000)])"
   ]
  },
  {
   "cell_type": "code",
   "execution_count": null,
   "metadata": {},
   "outputs": [],
   "source": [
    "# Roll our own ECDF function\n",
    "\n",
    "def ecdf(x):\n",
    "    \"\"\"Return empirical CDF of x.\"\"\"\n",
    "\n",
    "    sx = np.sort(x)\n",
    "    cdf = (1.0 + np.arange(len(sx)))/len(sx)\n",
    "    return sx, cdf"
   ]
  },
  {
   "cell_type": "code",
   "execution_count": null,
   "metadata": {},
   "outputs": [],
   "source": [
    "sx, y = ecdf(x)\n",
    "plt.plot(sx, y);"
   ]
  },
  {
   "cell_type": "code",
   "execution_count": null,
   "metadata": {},
   "outputs": [],
   "source": [
    "from statsmodels.distributions.empirical_distribution import ECDF\n",
    "\n",
    "ecdf = ECDF(x)\n",
    "plt.plot(ecdf.x, ecdf.y);"
   ]
  },
  {
   "cell_type": "markdown",
   "metadata": {},
   "source": [
    "### <font color='blue'>Outliers and Cook's Distance</font>"
   ]
  },
  {
   "cell_type": "code",
   "execution_count": null,
   "metadata": {},
   "outputs": [],
   "source": [
    "def cook_dist(X, y, model):\n",
    "    \"\"\"Vectorized version of Cook's distance.\"\"\"\n",
    "    n = len(X)\n",
    "    fitted = model(y, X).fit()\n",
    "    yhat = fitted.predict(X)\n",
    "    p = len(fitted.params)\n",
    "    mse = np.sum((yhat - y)**2.0)/n\n",
    "    denom = p*mse\n",
    "    idx = np.arange(n)\n",
    "    return np.array([np.sum((yhat - model(y[idx!=i], X[idx!=i]).fit().predict(X))**2.0) for i in range(n)])/denom"
   ]
  },
  {
   "cell_type": "code",
   "execution_count": null,
   "metadata": {},
   "outputs": [],
   "source": [
    "from pandas.core import datetools\n",
    "import statsmodels.api as sm"
   ]
  },
  {
   "cell_type": "code",
   "execution_count": null,
   "metadata": {},
   "outputs": [],
   "source": [
    "# create data set with outliers\n",
    "nobs = 100\n",
    "X = np.random.random((nobs, 2))\n",
    "X = sm.add_constant(X)\n",
    "beta = [1, .1, .5]\n",
    "e = np.random.random(nobs)\n",
    "y = np.dot(X, beta) + e\n",
    "y[[7, 29, 78]] *= 3"
   ]
  },
  {
   "cell_type": "code",
   "execution_count": null,
   "metadata": {},
   "outputs": [],
   "source": [
    "# use Cook's distance to identify outliers\n",
    "model = sm.OLS\n",
    "d = cook_dist(X, y, model)\n",
    "plt.stem(d);"
   ]
  },
  {
   "cell_type": "markdown",
   "metadata": {
    "_cell_guid": "3f84c57a-4c16-425d-9230-d32c9222161b",
    "_uuid": "fac12ff041fc6e22f790ff4836a09c487f5bae14"
   },
   "source": []
  }
 ],
 "metadata": {
  "kernelspec": {
   "display_name": "Python 3",
   "language": "python",
   "name": "python3"
  },
  "language_info": {
   "codemirror_mode": {
    "name": "ipython",
    "version": 3
   },
   "file_extension": ".py",
   "mimetype": "text/x-python",
   "name": "python",
   "nbconvert_exporter": "python",
   "pygments_lexer": "ipython3",
   "version": "3.6.5"
  }
 },
 "nbformat": 4,
 "nbformat_minor": 1
}
